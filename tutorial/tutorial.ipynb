{
 "cells": [
  {
   "cell_type": "markdown",
   "id": "b4da3590-de15-4fbe-9b51-8192a80c9a2e",
   "metadata": {},
   "source": [
    "# CRF Tutorial\n",
    "\n",
    "  - Author: [Sébastien Mosser](mossers@mcmaster.ca)\n",
    "\n",
    "this tutorial is _heavily inspired_ by the one provided by the original `sklearn_crfsuite` project."
   ]
  },
  {
   "cell_type": "markdown",
   "id": "b5a0ae53-6302-4a3e-99d5-d9fbb0ccc476",
   "metadata": {},
   "source": [
    "## Installing the dataset\n",
    "\n",
    "We are using the _CONLL 2002 Named Entity Recognition Corpus_ for this tutorial, available thanks to `nltk`."
   ]
  },
  {
   "cell_type": "code",
   "execution_count": 1,
   "id": "8471b82e-69bc-4c41-855f-0aeb3b7cca24",
   "metadata": {},
   "outputs": [],
   "source": [
    "import nltk"
   ]
  },
  {
   "cell_type": "code",
   "execution_count": 2,
   "id": "3beca667-d0b3-473b-b106-1394da516685",
   "metadata": {},
   "outputs": [
    {
     "name": "stderr",
     "output_type": "stream",
     "text": [
      "[nltk_data] Downloading package conll2002 to\n",
      "[nltk_data]     /Users/mosser/nltk_data...\n",
      "[nltk_data]   Package conll2002 is already up-to-date!\n"
     ]
    },
    {
     "data": {
      "text/plain": [
       "True"
      ]
     },
     "execution_count": 2,
     "metadata": {},
     "output_type": "execute_result"
    }
   ],
   "source": [
    "nltk.download('conll2002')"
   ]
  },
  {
   "cell_type": "markdown",
   "id": "30dbcb10",
   "metadata": {},
   "source": [
    "A sentence is defined as a sequence of words. Each word is a tuple (TOKEN, POS, LABEL), where:\n",
    "  - TOKEN is the word, \n",
    "  - POS is the part-of-speech (grammatical role), \n",
    "  - and LAB the classified label"
   ]
  },
  {
   "cell_type": "code",
   "execution_count": 3,
   "id": "740359a0",
   "metadata": {},
   "outputs": [],
   "source": [
    "def sent2tokens(sentence): # the token available in the text\n",
    "    return [tok for tok, _, _ in sentence]\n",
    "\n",
    "def sent2pos(sentence): # Part-of-speech (grammatical) tags\n",
    "    return [pos for _, pos, _ in sentence]\n",
    "\n",
    "def sent2labels(sentence): # Label is what we are looking for\n",
    "    return [label for _, _, label in sentence]"
   ]
  },
  {
   "cell_type": "code",
   "execution_count": 4,
   "id": "6588dd45",
   "metadata": {},
   "outputs": [
    {
     "name": "stdout",
     "output_type": "stream",
     "text": [
      "[('El', 'DA', 'O'), ('Abogado', 'NC', 'B-PER'), ('General', 'AQ', 'I-PER'), ('del', 'SP', 'I-PER'), ('Estado', 'NC', 'I-PER'), (',', 'Fc', 'O'), ('Daryl', 'VMI', 'B-PER'), ('Williams', 'NC', 'I-PER'), (',', 'Fc', 'O'), ('subrayó', 'VMI', 'O'), ('hoy', 'RG', 'O'), ('la', 'DA', 'O'), ('necesidad', 'NC', 'O'), ('de', 'SP', 'O'), ('tomar', 'VMN', 'O'), ('medidas', 'NC', 'O'), ('para', 'SP', 'O'), ('proteger', 'VMN', 'O'), ('al', 'SP', 'O'), ('sistema', 'NC', 'O'), ('judicial', 'AQ', 'O'), ('australiano', 'AQ', 'O'), ('frente', 'RG', 'O'), ('a', 'SP', 'O'), ('una', 'DI', 'O'), ('página', 'NC', 'O'), ('de', 'SP', 'O'), ('internet', 'NC', 'O'), ('que', 'PR', 'O'), ('imposibilita', 'VMI', 'O'), ('el', 'DA', 'O'), ('cumplimiento', 'NC', 'O'), ('de', 'SP', 'O'), ('los', 'DA', 'O'), ('principios', 'NC', 'O'), ('básicos', 'AQ', 'O'), ('de', 'SP', 'O'), ('la', 'DA', 'O'), ('Ley', 'NC', 'B-MISC'), ('.', 'Fp', 'O')]\n"
     ]
    }
   ],
   "source": [
    "s = nltk.corpus.conll2002.iob_sents('esp.train')[2]\n",
    "print(s)"
   ]
  },
  {
   "cell_type": "code",
   "execution_count": 5,
   "id": "f17a9322",
   "metadata": {
    "scrolled": true
   },
   "outputs": [
    {
     "data": {
      "text/plain": [
       "'El Abogado General del Estado , Daryl Williams , subrayó hoy la necesidad de tomar medidas para proteger al sistema judicial australiano frente a una página de internet que imposibilita el cumplimiento de los principios básicos de la Ley .'"
      ]
     },
     "execution_count": 5,
     "metadata": {},
     "output_type": "execute_result"
    }
   ],
   "source": [
    "\" \".join(sent2tokens(s))"
   ]
  },
  {
   "cell_type": "code",
   "execution_count": 6,
   "id": "1148a7c0",
   "metadata": {},
   "outputs": [
    {
     "data": {
      "text/plain": [
       "'DA NC AQ SP NC Fc VMI NC Fc VMI RG DA NC SP VMN NC SP VMN SP NC AQ AQ RG SP DI NC SP NC PR VMI DA NC SP DA NC AQ SP DA NC Fp'"
      ]
     },
     "execution_count": 6,
     "metadata": {},
     "output_type": "execute_result"
    }
   ],
   "source": [
    "\" \".join(sent2pos(s))"
   ]
  },
  {
   "cell_type": "code",
   "execution_count": 7,
   "id": "9789d2fb",
   "metadata": {},
   "outputs": [
    {
     "data": {
      "text/plain": [
       "'O B-PER I-PER I-PER I-PER O B-PER I-PER O O O O O O O O O O O O O O O O O O O O O O O O O O O O O O B-MISC O'"
      ]
     },
     "execution_count": 7,
     "metadata": {},
     "output_type": "execute_result"
    }
   ],
   "source": [
    "\" \".join(sent2labels(s))"
   ]
  },
  {
   "cell_type": "markdown",
   "id": "c40edc60",
   "metadata": {},
   "source": [
    "## Extracting features from the dataset"
   ]
  },
  {
   "cell_type": "markdown",
   "id": "97c53e02",
   "metadata": {},
   "source": [
    "The learning process works on _features_, which are elements used to characterize the sentence. To do this, we define a function that map each word of a given sentence into a set of elements that characterize it (is it capitalized? a digit? what is the associated POS?, ...). We also include information on the previous and next word, when they exist."
   ]
  },
  {
   "cell_type": "code",
   "execution_count": 8,
   "id": "c78890a3",
   "metadata": {},
   "outputs": [],
   "source": [
    "def word2features(sent, i):\n",
    "    \"\"\" transform the i-st word in a sentence into a usable feature vector (here a dict)\"\"\"\n",
    "    word = sent[i][0]\n",
    "    postag = sent[i][1]\n",
    "\n",
    "    features = { # Features for each and every word in the dataset\n",
    "        'bias': 1.0,\n",
    "        'word.lower()':   word.lower(),   # lower case word to harmonize -> str\n",
    "        'word[-3:]':      word[-3:],      # last 3 letters -> str\n",
    "        'word[-2:]':      word[-2:],      # last 2 letters -> str\n",
    "        'word.isupper()': word.isupper(), # all letter upopercase -> bool\n",
    "        'word.istitle()': word.istitle(), # first letter uppercase -> bool\n",
    "        'word.isdigit()': word.isdigit(), # is a digit? -> bool\n",
    "        'postag':         postag,         # Part-of-speech tag\n",
    "        'postag[:2]':     postag[:2],     # first 2 letters of the POS tag\n",
    "    }\n",
    "    ## Update for words that are not the first one\n",
    "    if i > 0: \n",
    "        word1 = sent[i-1][0]      # previous word\n",
    "        postag1 = sent[i-1][1]    # previous POS tag\n",
    "        features.update({\n",
    "            '-1:word.lower()':   word1.lower(),    # Previous word spelled uniformously\n",
    "            '-1:word.istitle()': word1.istitle(),  # is it a title?\n",
    "            '-1:word.isupper()': word1.isupper(),  # is it upper case?\n",
    "            '-1:postag':         postag1,          # POS tag for the previous word\n",
    "            '-1:postag[:2]':     postag1[:2],      # first 2 letters of the previous POS tag\n",
    "        })\n",
    "    else:\n",
    "        features['BOS'] = True # If the first one, Beginning Of Sentence is True\n",
    "\n",
    "    # Update for words that are not the last ones\n",
    "    if i < len(sent)-1:\n",
    "        word1 = sent[i+1][0]   # Next word\n",
    "        postag1 = sent[i+1][1] # next POS tag\n",
    "        features.update({\n",
    "            '+1:word.lower()':   word1.lower(),   # next word spelled uniformously\n",
    "            '+1:word.istitle()': word1.istitle(), # is it a title?\n",
    "            '+1:word.isupper()': word1.isupper(), # is it uppercase?\n",
    "            '+1:postag':         postag1,         # next POS tag\n",
    "            '+1:postag[:2]':     postag1[:2],     # first 2 letters of the POS tag\n",
    "        })\n",
    "    else:\n",
    "        features['EOS'] = True # If the last one, then End Of Sentence is True.\n",
    "\n",
    "    return features # return the feature vector for this very sentence"
   ]
  },
  {
   "cell_type": "markdown",
   "id": "74ec7af2",
   "metadata": {},
   "source": [
    "Transformign a sentence means applying this transformation to each and every word in the sentence."
   ]
  },
  {
   "cell_type": "code",
   "execution_count": 9,
   "id": "9929b5a0",
   "metadata": {},
   "outputs": [],
   "source": [
    "def sent2features(sent):\n",
    "    \"\"\"Transform a sentences into features\"\"\"\n",
    "    return [word2features(sent, i) for i in range(len(sent))]"
   ]
  },
  {
   "cell_type": "code",
   "execution_count": 10,
   "id": "a883d52e",
   "metadata": {},
   "outputs": [
    {
     "name": "stdout",
     "output_type": "stream",
     "text": [
      "('El', 'DA', 'O') ('Abogado', 'NC', 'B-PER') ('General', 'AQ', 'I-PER')\n"
     ]
    }
   ],
   "source": [
    "print(s[0], s[1], s[2])"
   ]
  },
  {
   "cell_type": "code",
   "execution_count": 11,
   "id": "99898d26",
   "metadata": {},
   "outputs": [
    {
     "data": {
      "text/plain": [
       "{'bias': 1.0,\n",
       " 'word.lower()': 'abogado',\n",
       " 'word[-3:]': 'ado',\n",
       " 'word[-2:]': 'do',\n",
       " 'word.isupper()': False,\n",
       " 'word.istitle()': True,\n",
       " 'word.isdigit()': False,\n",
       " 'postag': 'NC',\n",
       " 'postag[:2]': 'NC',\n",
       " '-1:word.lower()': 'el',\n",
       " '-1:word.istitle()': True,\n",
       " '-1:word.isupper()': False,\n",
       " '-1:postag': 'DA',\n",
       " '-1:postag[:2]': 'DA',\n",
       " '+1:word.lower()': 'general',\n",
       " '+1:word.istitle()': True,\n",
       " '+1:word.isupper()': False,\n",
       " '+1:postag': 'AQ',\n",
       " '+1:postag[:2]': 'AQ'}"
      ]
     },
     "execution_count": 11,
     "metadata": {},
     "output_type": "execute_result"
    }
   ],
   "source": [
    "sent2features(s)[1]"
   ]
  },
  {
   "cell_type": "markdown",
   "id": "c6658341",
   "metadata": {},
   "source": [
    "## Extracting the training and validation datasets"
   ]
  },
  {
   "cell_type": "code",
   "execution_count": 12,
   "id": "3905c58f",
   "metadata": {},
   "outputs": [],
   "source": [
    "train_sents = list(nltk.corpus.conll2002.iob_sents('esp.train')) # training sentences\n",
    "test_sents = list(nltk.corpus.conll2002.iob_sents('esp.testb'))  # test sentences\n",
    "\n",
    "X_train = [sent2features(s) for s in train_sents] # Features for the training set\n",
    "y_train = [sent2labels(s) for s in train_sents]   # expected labels\n",
    "\n",
    "X_test = [sent2features(s) for s in test_sents]   # Features for the test set\n",
    "y_test = [sent2labels(s) for s in test_sents]     # expected labels"
   ]
  },
  {
   "cell_type": "markdown",
   "id": "fff614e2",
   "metadata": {},
   "source": [
    "## Training the initial model\n",
    "\n",
    "scikit-learn comes with a `model.fit(features, labels)` function to train automatically a given `model` to predict `labels` out of `features`. We wrap this function with some engineering sugar to store the trained model and avoid unecessary training."
   ]
  },
  {
   "cell_type": "code",
   "execution_count": 13,
   "id": "3b5cd2a6",
   "metadata": {},
   "outputs": [],
   "source": [
    "import pickle\n",
    "import bz2\n",
    "import os\n",
    "import time\n",
    "\n",
    "def train_model(model, x_features, y_labels, file):\n",
    "    \"\"\"Train model so that X fits Y, used file to store the model and avoid unnecessary training\"\"\"\n",
    "    start = time.time()\n",
    "    if os.path.exists(file):\n",
    "        print(\"Loading from memory\")\n",
    "        with bz2.BZ2File(file, 'r') as infile:\n",
    "            model = pickle.load(infile)\n",
    "    else:\n",
    "        print(\"Starting training\")\n",
    "        # training the model to fit the X space (features) with the Y one (labels)\n",
    "        model.fit(x_features, y_labels)  ## <<== this is the training call\n",
    "        print(\"training completed\")\n",
    "        with bz2.BZ2File(file, 'w') as outfile:\n",
    "            print(\"dumping model into memory\")\n",
    "            pickle.dump(model, outfile)\n",
    "\n",
    "    end = time.time()\n",
    "    print('Execution time:', end-start, 'seconds')\n",
    "    return model"
   ]
  },
  {
   "cell_type": "markdown",
   "id": "1b5c0d6e",
   "metadata": {},
   "source": [
    "We can now create a model describing the kind of learning algorithm we want to use."
   ]
  },
  {
   "cell_type": "code",
   "execution_count": 14,
   "id": "0bfb8c37",
   "metadata": {},
   "outputs": [],
   "source": [
    "from ace_sklearn_crfsuite import CRF"
   ]
  },
  {
   "cell_type": "code",
   "execution_count": 15,
   "id": "d2fcf508",
   "metadata": {},
   "outputs": [
    {
     "name": "stdout",
     "output_type": "stream",
     "text": [
      "Loading from memory\n",
      "Execution time: 0.07770800590515137 seconds\n"
     ]
    }
   ],
   "source": [
    "config = CRF(\n",
    "    algorithm='lbfgs',\n",
    "    c1=0.1,\n",
    "    c2=0.1,\n",
    "    max_iterations=100,\n",
    "    all_possible_transitions=True\n",
    ")\n",
    "crf = train_model(config, X_train, y_train, \"crf_model.pkl\")"
   ]
  },
  {
   "cell_type": "markdown",
   "id": "584a3943",
   "metadata": {},
   "source": [
    "## Evaluating the model"
   ]
  },
  {
   "cell_type": "markdown",
   "id": "e197a7aa",
   "metadata": {},
   "source": [
    "We can now ask our trained model to _predict_ labels for the training set."
   ]
  },
  {
   "cell_type": "code",
   "execution_count": 16,
   "id": "215befaa",
   "metadata": {},
   "outputs": [],
   "source": [
    "y_pred = crf.predict(X_test)"
   ]
  },
  {
   "cell_type": "markdown",
   "id": "1a455c84",
   "metadata": {},
   "source": [
    "In our case, the `O` labels represents words that are not important in the text, so we remove them for evaluation purposes."
   ]
  },
  {
   "cell_type": "code",
   "execution_count": 17,
   "id": "4723452b",
   "metadata": {},
   "outputs": [
    {
     "name": "stdout",
     "output_type": "stream",
     "text": [
      "Relevant labels: ['B-LOC', 'B-ORG', 'B-PER', 'I-PER', 'B-MISC', 'I-ORG', 'I-LOC', 'I-MISC']\n"
     ]
    }
   ],
   "source": [
    "available_labels = list(crf.classes_)\n",
    "available_labels.remove('O')\n",
    "\n",
    "print(\"Relevant labels: \" + str(available_labels))"
   ]
  },
  {
   "cell_type": "markdown",
   "id": "4f3c2fcb",
   "metadata": {},
   "source": [
    "We can now rely on scikit learn to compute metrics for us."
   ]
  },
  {
   "cell_type": "code",
   "execution_count": 18,
   "id": "e77379b2",
   "metadata": {},
   "outputs": [],
   "source": [
    "from sklearn.metrics import make_scorer, classification_report\n",
    "from ace_sklearn_crfsuite import metrics"
   ]
  },
  {
   "cell_type": "code",
   "execution_count": 19,
   "id": "864208b9",
   "metadata": {},
   "outputs": [
    {
     "name": "stdout",
     "output_type": "stream",
     "text": [
      "Weighted f-measure:0.7964686316443963\n"
     ]
    }
   ],
   "source": [
    "f1 = metrics.flat_f1_score(y_test, y_pred, average='weighted', labels=available_labels)\n",
    "print(\"Weighted f-measure:\" + str(f1))"
   ]
  },
  {
   "cell_type": "code",
   "execution_count": 20,
   "id": "614a87b4",
   "metadata": {},
   "outputs": [
    {
     "name": "stdout",
     "output_type": "stream",
     "text": [
      "              precision    recall  f1-score   support\n",
      "\n",
      "       B-LOC      0.810     0.784     0.797      1084\n",
      "       I-LOC      0.690     0.637     0.662       325\n",
      "      B-MISC      0.731     0.569     0.640       339\n",
      "      I-MISC      0.699     0.589     0.639       557\n",
      "       B-ORG      0.807     0.832     0.820      1400\n",
      "       I-ORG      0.852     0.786     0.818      1104\n",
      "       B-PER      0.850     0.884     0.867       735\n",
      "       I-PER      0.893     0.943     0.917       634\n",
      "\n",
      "   micro avg      0.813     0.787     0.799      6178\n",
      "   macro avg      0.791     0.753     0.770      6178\n",
      "weighted avg      0.809     0.787     0.796      6178\n",
      "\n"
     ]
    }
   ],
   "source": [
    "sorted_labels = sorted(\n",
    "    available_labels,\n",
    "    key=lambda name: (name[1:], name[0])\n",
    ")\n",
    "\n",
    "report = metrics.flat_classification_report(\n",
    "    y_test, y_pred, labels=sorted_labels, digits=3\n",
    ")\n",
    "print(report)"
   ]
  },
  {
   "cell_type": "markdown",
   "id": "fe016294",
   "metadata": {},
   "source": [
    "## Hyperparameter optimization (Random)"
   ]
  },
  {
   "cell_type": "markdown",
   "id": "1ca5bf55",
   "metadata": {},
   "source": [
    "CRF uses two parameters, named `c1` and `c2`. The previous model used fixed parameter: \n",
    "  - c1=0.1\n",
    "  - c2=0.1\n",
    "\n",
    "What if we some other settings were better? We wil create a configuration that does not fix these parameter, and a _random_ exploration space to try to find better results"
   ]
  },
  {
   "cell_type": "code",
   "execution_count": 21,
   "id": "395811de",
   "metadata": {},
   "outputs": [],
   "source": [
    "crf_hp = CRF(\n",
    "    algorithm='lbfgs',\n",
    "    max_iterations=100,\n",
    "    all_possible_transitions=True,\n",
    ")"
   ]
  },
  {
   "cell_type": "code",
   "execution_count": 22,
   "id": "9931a97b",
   "metadata": {},
   "outputs": [],
   "source": [
    "import scipy.stats"
   ]
  },
  {
   "cell_type": "code",
   "execution_count": 23,
   "id": "c4958419",
   "metadata": {},
   "outputs": [],
   "source": [
    "params_space = { # Isntead of fixing c1 and c2 to 0.1, we let the system explore the space to find the \"best\" value\n",
    "    'c1': scipy.stats.expon(scale=0.5),\n",
    "    'c2': scipy.stats.expon(scale=0.05),\n",
    "}"
   ]
  },
  {
   "cell_type": "markdown",
   "id": "a3491795",
   "metadata": {},
   "source": [
    "How to define \"best\" results? We can consider the averaged f1-measure. We create a _scorer_ that will be used during the exploration to compare the models and keep the best one"
   ]
  },
  {
   "cell_type": "code",
   "execution_count": 24,
   "id": "c3e94085",
   "metadata": {},
   "outputs": [],
   "source": [
    "f1_scorer = make_scorer(metrics.flat_f1_score,\n",
    "                        average='weighted', labels=available_labels)"
   ]
  },
  {
   "cell_type": "markdown",
   "id": "e8b75002",
   "metadata": {},
   "source": [
    "We can now create a _randomized_ exploration, and let scikit-learn explore this for us."
   ]
  },
  {
   "cell_type": "code",
   "execution_count": 25,
   "id": "3a4769a7",
   "metadata": {},
   "outputs": [],
   "source": [
    "from sklearn.model_selection import RandomizedSearchCV\n",
    "config_rs = RandomizedSearchCV(crf_hp, params_space,\n",
    "                               cv=5, verbose=100, n_jobs=-1, n_iter=50,\n",
    "                               scoring=f1_scorer, \n",
    "                               return_train_score=True, refit=False)"
   ]
  },
  {
   "cell_type": "markdown",
   "id": "e403d3ef",
   "metadata": {},
   "source": [
    "Let's train the model! (50 candidates, with 5 folds each, means 250 training). It will take a while."
   ]
  },
  {
   "cell_type": "code",
   "execution_count": 26,
   "id": "0e08c375",
   "metadata": {},
   "outputs": [
    {
     "name": "stdout",
     "output_type": "stream",
     "text": [
      "Loading from memory\n",
      "Execution time: 0.005714893341064453 seconds\n"
     ]
    }
   ],
   "source": [
    "crf_hp = train_model(config_rs, X_train, y_train, 'crf_model_hp.pkl')"
   ]
  },
  {
   "cell_type": "code",
   "execution_count": 27,
   "id": "522f9603",
   "metadata": {},
   "outputs": [
    {
     "name": "stdout",
     "output_type": "stream",
     "text": [
      "best params: {'c1': 0.05689423574832278, 'c2': 0.03781509311811296}\n",
      "best CV score: 0.7648940338468285\n"
     ]
    }
   ],
   "source": [
    "print('best params:', crf_hp.best_params_)\n",
    "print('best CV score:', crf_hp.best_score_)"
   ]
  },
  {
   "cell_type": "markdown",
   "id": "2d431c0e",
   "metadata": {},
   "source": [
    "## Plotting the parameter space"
   ]
  },
  {
   "cell_type": "markdown",
   "id": "566d8049",
   "metadata": {},
   "source": [
    "the obtaine model might be better (by luck), but had chances to actually be worse than our first paramneters. exploriong randomly a large space did not help. But we can use this to check where to look fur further optimization"
   ]
  },
  {
   "cell_type": "code",
   "execution_count": 28,
   "id": "12411a2d",
   "metadata": {},
   "outputs": [],
   "source": [
    "import matplotlib.pyplot as plt\n",
    "plt.style.use('ggplot')"
   ]
  },
  {
   "cell_type": "code",
   "execution_count": 29,
   "id": "4e117e53",
   "metadata": {},
   "outputs": [],
   "source": [
    "def plot_hp(hp_model, color):\n",
    "    _x = [s['c1'] for s in hp_model.cv_results_['params']]\n",
    "    _y = [s['c2'] for s in hp_model.cv_results_['params']]\n",
    "    _c = [s for s in hp_model.cv_results_[color]]\n",
    "\n",
    "    fig = plt.figure()\n",
    "\n",
    "    plt.scatter(_x, _y, c=_c, s=60, alpha=0.3,cmap='coolwarm')\n",
    "    plt.xlabel(\"C1\")\n",
    "    plt.ylabel(\"C2\")\n",
    "    plt.title(\"Exploring {C1,C2} parameter space\")\n",
    "    cb = plt.colorbar()\n",
    "    cb.ax.set_ylabel('F1-score')"
   ]
  },
  {
   "cell_type": "code",
   "execution_count": 30,
   "id": "39fa8605",
   "metadata": {},
   "outputs": [
    {
     "data": {
      "image/png": "[encoded data removed]",
      "text/plain": [
       "<Figure size 432x288 with 2 Axes>"
      ]
     },
     "metadata": {
      "needs_background": "light"
     },
     "output_type": "display_data"
    }
   ],
   "source": [
    "plot_hp(crf_hp, 'mean_train_score') # How it behave on the training sets"
   ]
  },
  {
   "cell_type": "code",
   "execution_count": 31,
   "id": "246e63f8",
   "metadata": {},
   "outputs": [
    {
     "data": {
      "image/png": "[encoded data removed]",
      "text/plain": [
       "<Figure size 432x288 with 2 Axes>"
      ]
     },
     "metadata": {
      "needs_background": "light"
     },
     "output_type": "display_data"
    }
   ],
   "source": [
    "plot_hp(crf_hp, 'mean_test_score') # How it behave on the validation sets"
   ]
  },
  {
   "cell_type": "markdown",
   "id": "de46a812",
   "metadata": {},
   "source": [
    "So it looks like the bottom-left corner of our exploration space produces the best f-measure."
   ]
  },
  {
   "cell_type": "markdown",
   "id": "91d44ec3",
   "metadata": {},
   "source": [
    "## Using a grid based search hyperparameter optimization"
   ]
  },
  {
   "cell_type": "code",
   "execution_count": 32,
   "id": "e6d8b3d8",
   "metadata": {},
   "outputs": [],
   "source": [
    "import numpy as np"
   ]
  },
  {
   "cell_type": "code",
   "execution_count": 33,
   "id": "875df4b0",
   "metadata": {},
   "outputs": [],
   "source": [
    "crf_grid = CRF(\n",
    "    algorithm='lbfgs',\n",
    "    max_iterations=100,\n",
    "    all_possible_transitions=True,\n",
    ")"
   ]
  },
  {
   "cell_type": "code",
   "execution_count": 34,
   "id": "b6d19e7d",
   "metadata": {},
   "outputs": [],
   "source": [
    "params_space_grid = {\n",
    "    \"c1\": np.linspace(0.0, 0.5, 11),\n",
    "    \"c2\": np.linspace(0.0, 0.1, 11)\n",
    "}"
   ]
  },
  {
   "cell_type": "code",
   "execution_count": 35,
   "id": "d0eb2fa0",
   "metadata": {},
   "outputs": [
    {
     "data": {
      "text/plain": [
       "{'c1': array([0.  , 0.05, 0.1 , 0.15, 0.2 , 0.25, 0.3 , 0.35, 0.4 , 0.45, 0.5 ]),\n",
       " 'c2': array([0.  , 0.01, 0.02, 0.03, 0.04, 0.05, 0.06, 0.07, 0.08, 0.09, 0.1 ])}"
      ]
     },
     "execution_count": 35,
     "metadata": {},
     "output_type": "execute_result"
    }
   ],
   "source": [
    "params_space_grid"
   ]
  },
  {
   "cell_type": "code",
   "execution_count": 36,
   "id": "8ac3556f",
   "metadata": {},
   "outputs": [],
   "source": [
    "from sklearn.model_selection import GridSearchCV\n",
    "config_grid = GridSearchCV(crf_grid, params_space_grid,\n",
    "                               cv=5, verbose=100, n_jobs=-1,\n",
    "                               scoring=f1_scorer, \n",
    "                               return_train_score=True, refit=False)"
   ]
  },
  {
   "cell_type": "markdown",
   "id": "868888bb",
   "metadata": {},
   "source": [
    "We're going to explore a space 3 times larger thjan the rendom one... it'll take a while"
   ]
  },
  {
   "cell_type": "code",
   "execution_count": null,
   "id": "507ae6c7",
   "metadata": {},
   "outputs": [
    {
     "name": "stdout",
     "output_type": "stream",
     "text": [
      "Starting training\n",
      "Fitting 5 folds for each of 121 candidates, totalling 605 fits\n",
      "[CV 1/5; 1/121] START c1=0.0, c2=0.0............................................\n",
      "[CV 1/5; 1/121] END c1=0.0, c2=0.0;, score=(train=0.913, test=0.758) total time=  44.7s\n",
      "[CV 4/5; 2/121] START c1=0.0, c2=0.01...........................................\n",
      "[CV 4/5; 2/121] END c1=0.0, c2=0.01;, score=(train=0.916, test=0.747) total time=  50.5s\n",
      "[CV 2/5; 4/121] START c1=0.0, c2=0.03...........................................\n",
      "[CV 2/5; 4/121] END c1=0.0, c2=0.03;, score=(train=0.911, test=0.742) total time=  56.4s\n",
      "[CV 5/5; 5/121] START c1=0.0, c2=0.04...........................................\n",
      "[CV 5/5; 5/121] END c1=0.0, c2=0.04;, score=(train=0.920, test=0.732) total time= 1.0min\n",
      "[CV 4/5; 7/121] START c1=0.0, c2=0.06...........................................\n",
      "[CV 4/5; 7/121] END c1=0.0, c2=0.06;, score=(train=0.916, test=0.758) total time=  52.9s\n",
      "[CV 2/5; 9/121] START c1=0.0, c2=0.08...........................................\n",
      "[CV 2/5; 9/121] END c1=0.0, c2=0.08;, score=(train=0.908, test=0.731) total time=  56.6s\n",
      "[CV 5/5; 10/121] START c1=0.0, c2=0.09..........................................\n",
      "[CV 5/5; 10/121] END c1=0.0, c2=0.09;, score=(train=0.919, test=0.730) total time=  52.7s\n",
      "[CV 3/5; 12/121] START c1=0.05, c2=0.0..........................................\n",
      "[CV 3/5; 12/121] END c1=0.05, c2=0.0;, score=(train=0.980, test=0.735) total time=  45.4s\n",
      "[CV 1/5; 14/121] START c1=0.05, c2=0.02.........................................\n",
      "[CV 1/5; 14/121] END c1=0.05, c2=0.02;, score=(train=0.981, test=0.782) total time=  47.2s\n",
      "[CV 3/5; 15/121] START c1=0.05, c2=0.03.........................................\n",
      "[CV 3/5; 15/121] END c1=0.05, c2=0.03;, score=(train=0.979, test=0.744) total time=  48.3s\n",
      "[CV 1/5; 17/121] START c1=0.05, c2=0.05.........................................\n",
      "[CV 1/5; 17/121] END c1=0.05, c2=0.05;, score=(train=0.980, test=0.783) total time=  46.1s\n",
      "[CV 4/5; 18/121] START c1=0.05, c2=0.06.........................................\n",
      "[CV 4/5; 18/121] END c1=0.05, c2=0.06;, score=(train=0.978, test=0.772) total time=  47.0s\n",
      "[CV 2/5; 20/121] START c1=0.05, c2=0.08.........................................\n",
      "[CV 2/5; 20/121] END c1=0.05, c2=0.08;, score=(train=0.976, test=0.775) total time=  50.5s\n",
      "[CV 5/5; 21/121] START c1=0.05, c2=0.09.........................................\n",
      "[CV 5/5; 21/121] END c1=0.05, c2=0.09;, score=(train=0.980, test=0.746) total time=  49.1s\n",
      "[CV 3/5; 23/121] START c1=0.1, c2=0.0...........................................\n",
      "[CV 3/5; 23/121] END c1=0.1, c2=0.0;, score=(train=0.979, test=0.734) total time=  44.2s\n",
      "[CV 1/5; 25/121] START c1=0.1, c2=0.02..........................................\n",
      "[CV 1/5; 25/121] END c1=0.1, c2=0.02;, score=(train=0.980, test=0.784) total time=  43.9s\n",
      "[CV 4/5; 26/121] START c1=0.1, c2=0.03..........................................\n",
      "[CV 4/5; 26/121] END c1=0.1, c2=0.03;, score=(train=0.978, test=0.773) total time=  45.3s\n",
      "[CV 2/5; 28/121] START c1=0.1, c2=0.05..........................................\n",
      "[CV 2/5; 28/121] END c1=0.1, c2=0.05;, score=(train=0.977, test=0.771) total time=  46.4s\n",
      "[CV 5/5; 29/121] START c1=0.1, c2=0.06..........................................\n",
      "[CV 5/5; 29/121] END c1=0.1, c2=0.06;, score=(train=0.980, test=0.746) total time=  48.7s\n"
     ]
    },
    {
     "name": "stderr",
     "output_type": "stream",
     "text": [
      "/Users/mosser/.local/share/virtualenvs/tutorial-GoLrs64M/lib/python3.10/site-packages/joblib/externals/loky/process_executor.py:702: UserWarning: A worker stopped while some jobs were given to the executor. This can be caused by a too short worker timeout or by a memory leak.\n",
      "  warnings.warn(\n"
     ]
    },
    {
     "name": "stdout",
     "output_type": "stream",
     "text": [
      "[CV 3/5; 1/121] START c1=0.0, c2=0.0............................................\n",
      "[CV 3/5; 1/121] END c1=0.0, c2=0.0;, score=(train=0.912, test=0.726) total time=  47.0s\n",
      "[CV 5/5; 2/121] START c1=0.0, c2=0.01...........................................\n",
      "[CV 5/5; 2/121] END c1=0.0, c2=0.01;, score=(train=0.922, test=0.727) total time=  52.3s\n",
      "[CV 4/5; 4/121] START c1=0.0, c2=0.03...........................................\n",
      "[CV 4/5; 4/121] END c1=0.0, c2=0.03;, score=(train=0.921, test=0.753) total time=  51.4s\n",
      "[CV 2/5; 6/121] START c1=0.0, c2=0.05...........................................\n",
      "[CV 2/5; 6/121] END c1=0.0, c2=0.05;, score=(train=0.906, test=0.742) total time= 1.0min\n",
      "[CV 1/5; 8/121] START c1=0.0, c2=0.07...........................................\n",
      "[CV 1/5; 8/121] END c1=0.0, c2=0.07;, score=(train=0.909, test=0.765) total time=  50.4s\n",
      "[CV 3/5; 9/121] START c1=0.0, c2=0.08...........................................\n",
      "[CV 3/5; 9/121] END c1=0.0, c2=0.08;, score=(train=0.917, test=0.726) total time=  55.2s\n",
      "[CV 1/5; 11/121] START c1=0.0, c2=0.1...........................................\n",
      "[CV 1/5; 11/121] END c1=0.0, c2=0.1;, score=(train=0.913, test=0.758) total time=  51.7s\n",
      "[CV 4/5; 12/121] START c1=0.05, c2=0.0..........................................\n",
      "[CV 4/5; 12/121] END c1=0.05, c2=0.0;, score=(train=0.981, test=0.767) total time=  46.6s\n",
      "[CV 2/5; 14/121] START c1=0.05, c2=0.02.........................................\n",
      "[CV 2/5; 14/121] END c1=0.05, c2=0.02;, score=(train=0.979, test=0.778) total time=  49.8s\n",
      "[CV 5/5; 15/121] START c1=0.05, c2=0.03.........................................\n",
      "[CV 5/5; 15/121] END c1=0.05, c2=0.03;, score=(train=0.983, test=0.747) total time=  48.0s\n",
      "[CV 3/5; 17/121] START c1=0.05, c2=0.05.........................................\n",
      "[CV 3/5; 17/121] END c1=0.05, c2=0.05;, score=(train=0.977, test=0.743) total time=  47.1s\n",
      "[CV 1/5; 19/121] START c1=0.05, c2=0.07.........................................\n",
      "[CV 1/5; 19/121] END c1=0.05, c2=0.07;, score=(train=0.979, test=0.782) total time=  48.2s\n",
      "[CV 4/5; 20/121] START c1=0.05, c2=0.08.........................................\n",
      "[CV 4/5; 20/121] END c1=0.05, c2=0.08;, score=(train=0.977, test=0.773) total time=  48.0s\n",
      "[CV 2/5; 22/121] START c1=0.05, c2=0.1..........................................\n",
      "[CV 2/5; 22/121] END c1=0.05, c2=0.1;, score=(train=0.975, test=0.775) total time=  48.8s\n",
      "[CV 5/5; 23/121] START c1=0.1, c2=0.0...........................................\n",
      "[CV 5/5; 23/121] END c1=0.1, c2=0.0;, score=(train=0.984, test=0.742) total time=  44.5s\n",
      "[CV 3/5; 25/121] START c1=0.1, c2=0.02..........................................\n",
      "[CV 3/5; 25/121] END c1=0.1, c2=0.02;, score=(train=0.978, test=0.745) total time=  45.2s\n",
      "[CV 5/5; 26/121] START c1=0.1, c2=0.03..........................................\n",
      "[CV 5/5; 26/121] END c1=0.1, c2=0.03;, score=(train=0.982, test=0.749) total time=  45.6s\n",
      "[CV 3/5; 28/121] START c1=0.1, c2=0.05..........................................\n",
      "[CV 3/5; 28/121] END c1=0.1, c2=0.05;, score=(train=0.977, test=0.739) total time=  43.4s\n",
      "[CV 1/5; 30/121] START c1=0.1, c2=0.07..........................................\n",
      "[CV 1/5; 30/121] END c1=0.1, c2=0.07;, score=(train=0.978, test=0.780) total time=  46.1s\n",
      "[CV 3/5; 31/121] START c1=0.1, c2=0.08..........................................\n",
      "[CV 3/5; 31/121] END c1=0.1, c2=0.08;, score=(train=0.975, test=0.745) total time=  43.3s\n",
      "[CV 4/5; 1/121] START c1=0.0, c2=0.0............................................\n",
      "[CV 4/5; 1/121] END c1=0.0, c2=0.0;, score=(train=0.917, test=0.754) total time=  46.7s\n",
      "[CV 1/5; 3/121] START c1=0.0, c2=0.02...........................................\n",
      "[CV 1/5; 3/121] END c1=0.0, c2=0.02;, score=(train=0.909, test=0.761) total time=  49.6s\n",
      "[CV 3/5; 4/121] START c1=0.0, c2=0.03...........................................\n",
      "[CV 3/5; 4/121] END c1=0.0, c2=0.03;, score=(train=0.918, test=0.722) total time=  50.8s\n",
      "[CV 1/5; 6/121] START c1=0.0, c2=0.05...........................................\n",
      "[CV 1/5; 6/121] END c1=0.0, c2=0.05;, score=(train=0.905, test=0.758) total time=  59.2s\n",
      "[CV 3/5; 7/121] START c1=0.0, c2=0.06...........................................\n",
      "[CV 3/5; 7/121] END c1=0.0, c2=0.06;, score=(train=0.917, test=0.729) total time=  52.1s\n",
      "[CV 1/5; 9/121] START c1=0.0, c2=0.08...........................................\n",
      "[CV 1/5; 9/121] END c1=0.0, c2=0.08;, score=(train=0.913, test=0.760) total time=  54.9s\n",
      "[CV 4/5; 10/121] START c1=0.0, c2=0.09..........................................\n",
      "[CV 4/5; 10/121] END c1=0.0, c2=0.09;, score=(train=0.914, test=0.758) total time=  51.1s\n",
      "[CV 2/5; 12/121] START c1=0.05, c2=0.0..........................................\n",
      "[CV 2/5; 12/121] END c1=0.05, c2=0.0;, score=(train=0.980, test=0.762) total time=  49.0s\n",
      "[CV 5/5; 13/121] START c1=0.05, c2=0.01.........................................\n",
      "[CV 5/5; 13/121] END c1=0.05, c2=0.01;, score=(train=0.984, test=0.753) total time=  49.1s\n",
      "[CV 4/5; 15/121] START c1=0.05, c2=0.03.........................................\n",
      "[CV 4/5; 15/121] END c1=0.05, c2=0.03;, score=(train=0.979, test=0.773) total time=  48.7s\n",
      "[CV 2/5; 17/121] START c1=0.05, c2=0.05.........................................\n",
      "[CV 2/5; 17/121] END c1=0.05, c2=0.05;, score=(train=0.977, test=0.780) total time=  47.5s\n",
      "[CV 5/5; 18/121] START c1=0.05, c2=0.06.........................................\n",
      "[CV 5/5; 18/121] END c1=0.05, c2=0.06;, score=(train=0.981, test=0.744) total time=  48.6s\n",
      "[CV 3/5; 20/121] START c1=0.05, c2=0.08.........................................\n",
      "[CV 3/5; 20/121] END c1=0.05, c2=0.08;, score=(train=0.976, test=0.748) total time=  49.1s\n",
      "[CV 1/5; 22/121] START c1=0.05, c2=0.1..........................................\n",
      "[CV 1/5; 22/121] END c1=0.05, c2=0.1;, score=(train=0.976, test=0.785) total time=  48.2s\n",
      "[CV 4/5; 23/121] START c1=0.1, c2=0.0...........................................\n",
      "[CV 4/5; 23/121] END c1=0.1, c2=0.0;, score=(train=0.980, test=0.772) total time=  44.5s\n",
      "[CV 2/5; 25/121] START c1=0.1, c2=0.02..........................................\n",
      "[CV 2/5; 25/121] END c1=0.1, c2=0.02;, score=(train=0.978, test=0.779) total time=  47.3s\n",
      "[CV 1/5; 27/121] START c1=0.1, c2=0.04..........................................\n",
      "[CV 1/5; 27/121] END c1=0.1, c2=0.04;, score=(train=0.979, test=0.782) total time=  44.9s\n",
      "[CV 4/5; 28/121] START c1=0.1, c2=0.05..........................................\n",
      "[CV 4/5; 28/121] END c1=0.1, c2=0.05;, score=(train=0.977, test=0.771) total time=  44.0s\n",
      "[CV 2/5; 30/121] START c1=0.1, c2=0.07..........................................\n",
      "[CV 2/5; 30/121] END c1=0.1, c2=0.07;, score=(train=0.975, test=0.772) total time=  49.0s\n",
      "[CV 5/5; 31/121] START c1=0.1, c2=0.08..........................................\n",
      "[CV 5/5; 31/121] END c1=0.1, c2=0.08;, score=(train=0.979, test=0.748) total time=  43.9s\n",
      "[CV 2/5; 1/121] START c1=0.0, c2=0.0............................................\n",
      "[CV 2/5; 1/121] END c1=0.0, c2=0.0;, score=(train=0.911, test=0.728) total time=  48.3s\n",
      "[CV 2/5; 3/121] START c1=0.0, c2=0.02...........................................\n",
      "[CV 2/5; 3/121] END c1=0.0, c2=0.02;, score=(train=0.916, test=0.732) total time=  52.1s\n",
      "[CV 1/5; 5/121] START c1=0.0, c2=0.04...........................................\n",
      "[CV 1/5; 5/121] END c1=0.0, c2=0.04;, score=(train=0.912, test=0.757) total time=  49.2s\n",
      "[CV 3/5; 6/121] START c1=0.0, c2=0.05...........................................\n",
      "[CV 3/5; 6/121] END c1=0.0, c2=0.05;, score=(train=0.912, test=0.726) total time=  59.2s\n",
      "[CV 5/5; 7/121] START c1=0.0, c2=0.06...........................................\n",
      "[CV 5/5; 7/121] END c1=0.0, c2=0.06;, score=(train=0.926, test=0.736) total time=  52.2s\n",
      "[CV 4/5; 9/121] START c1=0.0, c2=0.08...........................................\n",
      "[CV 4/5; 9/121] END c1=0.0, c2=0.08;, score=(train=0.907, test=0.758) total time=  56.6s\n",
      "[CV 2/5; 11/121] START c1=0.0, c2=0.1...........................................\n",
      "[CV 2/5; 11/121] END c1=0.0, c2=0.1;, score=(train=0.908, test=0.734) total time=  54.0s\n",
      "[CV 1/5; 13/121] START c1=0.05, c2=0.01.........................................\n",
      "[CV 1/5; 13/121] END c1=0.05, c2=0.01;, score=(train=0.982, test=0.782) total time=  46.6s\n",
      "[CV 4/5; 14/121] START c1=0.05, c2=0.02.........................................\n",
      "[CV 4/5; 14/121] END c1=0.05, c2=0.02;, score=(train=0.980, test=0.771) total time=  48.6s\n",
      "[CV 2/5; 16/121] START c1=0.05, c2=0.04.........................................\n",
      "[CV 2/5; 16/121] END c1=0.05, c2=0.04;, score=(train=0.978, test=0.776) total time=  49.0s\n",
      "[CV 1/5; 18/121] START c1=0.05, c2=0.06.........................................\n",
      "[CV 1/5; 18/121] END c1=0.05, c2=0.06;, score=(train=0.980, test=0.782) total time=  46.0s\n",
      "[CV 4/5; 19/121] START c1=0.05, c2=0.07.........................................\n",
      "[CV 4/5; 19/121] END c1=0.05, c2=0.07;, score=(train=0.977, test=0.776) total time=  48.8s\n",
      "[CV 3/5; 21/121] START c1=0.05, c2=0.09.........................................\n",
      "[CV 3/5; 21/121] END c1=0.05, c2=0.09;, score=(train=0.976, test=0.743) total time=  48.8s\n",
      "[CV 1/5; 23/121] START c1=0.1, c2=0.0...........................................\n",
      "[CV 1/5; 23/121] END c1=0.1, c2=0.0;, score=(train=0.982, test=0.785) total time=  46.9s\n",
      "[CV 3/5; 24/121] START c1=0.1, c2=0.01..........................................\n",
      "[CV 3/5; 24/121] END c1=0.1, c2=0.01;, score=(train=0.979, test=0.739) total time=  43.5s\n",
      "[CV 1/5; 26/121] START c1=0.1, c2=0.03..........................................\n",
      "[CV 1/5; 26/121] END c1=0.1, c2=0.03;, score=(train=0.980, test=0.779) total time=  43.9s\n",
      "[CV 3/5; 27/121] START c1=0.1, c2=0.04..........................................\n",
      "[CV 3/5; 27/121] END c1=0.1, c2=0.04;, score=(train=0.977, test=0.747) total time=  44.5s\n",
      "[CV 1/5; 29/121] START c1=0.1, c2=0.06..........................................\n",
      "[CV 1/5; 29/121] END c1=0.1, c2=0.06;, score=(train=0.978, test=0.783) total time=  43.8s\n",
      "[CV 3/5; 30/121] START c1=0.1, c2=0.07..........................................\n",
      "[CV 3/5; 30/121] END c1=0.1, c2=0.07;, score=(train=0.976, test=0.744) total time=  47.7s\n",
      "[CV 1/5; 32/121] START c1=0.1, c2=0.09..........................................\n",
      "[CV 1/5; 32/121] END c1=0.1, c2=0.09;, score=(train=0.976, test=0.784) total time=  42.2s\n"
     ]
    },
    {
     "name": "stdout",
     "output_type": "stream",
     "text": [
      "[CV 2/5; 2/121] START c1=0.0, c2=0.01...........................................\n",
      "[CV 2/5; 2/121] END c1=0.0, c2=0.01;, score=(train=0.916, test=0.728) total time=  48.9s\n",
      "[CV 5/5; 3/121] START c1=0.0, c2=0.02...........................................\n",
      "[CV 5/5; 3/121] END c1=0.0, c2=0.02;, score=(train=0.920, test=0.727) total time=  54.5s\n",
      "[CV 3/5; 5/121] START c1=0.0, c2=0.04...........................................\n",
      "[CV 3/5; 5/121] END c1=0.0, c2=0.04;, score=(train=0.917, test=0.724) total time=  48.8s\n",
      "[CV 5/5; 6/121] START c1=0.0, c2=0.05...........................................\n",
      "[CV 5/5; 6/121] END c1=0.0, c2=0.05;, score=(train=0.920, test=0.728) total time=  58.0s\n",
      "[CV 2/5; 8/121] START c1=0.0, c2=0.07...........................................\n",
      "[CV 2/5; 8/121] END c1=0.0, c2=0.07;, score=(train=0.910, test=0.733) total time=  52.9s\n",
      "[CV 5/5; 9/121] START c1=0.0, c2=0.08...........................................\n",
      "[CV 5/5; 9/121] END c1=0.0, c2=0.08;, score=(train=0.917, test=0.726) total time=  54.6s\n",
      "[CV 3/5; 11/121] START c1=0.0, c2=0.1...........................................\n",
      "[CV 3/5; 11/121] END c1=0.0, c2=0.1;, score=(train=0.916, test=0.732) total time=  52.7s\n",
      "[CV 5/5; 12/121] START c1=0.05, c2=0.0..........................................\n",
      "[CV 5/5; 12/121] END c1=0.05, c2=0.0;, score=(train=0.984, test=0.738) total time=  46.7s\n",
      "[CV 3/5; 14/121] START c1=0.05, c2=0.02.........................................\n",
      "[CV 3/5; 14/121] END c1=0.05, c2=0.02;, score=(train=0.979, test=0.744) total time=  47.9s\n",
      "[CV 1/5; 16/121] START c1=0.05, c2=0.04.........................................\n",
      "[CV 1/5; 16/121] END c1=0.05, c2=0.04;, score=(train=0.980, test=0.784) total time=  48.1s\n",
      "[CV 4/5; 17/121] START c1=0.05, c2=0.05.........................................\n",
      "[CV 4/5; 17/121] END c1=0.05, c2=0.05;, score=(train=0.978, test=0.774) total time=  47.0s\n",
      "[CV 2/5; 19/121] START c1=0.05, c2=0.07.........................................\n",
      "[CV 2/5; 19/121] END c1=0.05, c2=0.07;, score=(train=0.976, test=0.776) total time=  49.3s\n",
      "[CV 5/5; 20/121] START c1=0.05, c2=0.08.........................................\n",
      "[CV 5/5; 20/121] END c1=0.05, c2=0.08;, score=(train=0.980, test=0.751) total time=  49.4s\n",
      "[CV 3/5; 22/121] START c1=0.05, c2=0.1..........................................\n",
      "[CV 3/5; 22/121] END c1=0.05, c2=0.1;, score=(train=0.975, test=0.743) total time=  49.2s\n",
      "[CV 1/5; 24/121] START c1=0.1, c2=0.01..........................................\n",
      "[CV 1/5; 24/121] END c1=0.1, c2=0.01;, score=(train=0.981, test=0.781) total time=  45.0s\n",
      "[CV 4/5; 25/121] START c1=0.1, c2=0.02..........................................\n",
      "[CV 4/5; 25/121] END c1=0.1, c2=0.02;, score=(train=0.979, test=0.773) total time=  46.3s\n",
      "[CV 2/5; 27/121] START c1=0.1, c2=0.04..........................................\n",
      "[CV 2/5; 27/121] END c1=0.1, c2=0.04;, score=(train=0.977, test=0.773) total time=  46.2s\n",
      "[CV 5/5; 28/121] START c1=0.1, c2=0.05..........................................\n",
      "[CV 5/5; 28/121] END c1=0.1, c2=0.05;, score=(train=0.981, test=0.748) total time=  45.3s\n",
      "[CV 4/5; 30/121] START c1=0.1, c2=0.07..........................................\n",
      "[CV 4/5; 30/121] END c1=0.1, c2=0.07;, score=(train=0.975, test=0.776) total time=  47.2s\n",
      "[CV 2/5; 32/121] START c1=0.1, c2=0.09..........................................\n",
      "[CV 2/5; 32/121] END c1=0.1, c2=0.09;, score=(train=0.973, test=0.775) total time=  43.8s\n",
      "[CV 1/5; 2/121] START c1=0.0, c2=0.01...........................................\n",
      "[CV 1/5; 2/121] END c1=0.0, c2=0.01;, score=(train=0.914, test=0.755) total time=  47.5s\n",
      "[CV 3/5; 3/121] START c1=0.0, c2=0.02...........................................\n",
      "[CV 3/5; 3/121] END c1=0.0, c2=0.02;, score=(train=0.918, test=0.728) total time=  50.9s\n",
      "[CV 5/5; 4/121] START c1=0.0, c2=0.03...........................................\n",
      "[CV 5/5; 4/121] END c1=0.0, c2=0.03;, score=(train=0.919, test=0.723) total time=  51.8s\n",
      "[CV 4/5; 6/121] START c1=0.0, c2=0.05...........................................\n",
      "[CV 4/5; 6/121] END c1=0.0, c2=0.05;, score=(train=0.913, test=0.754) total time= 1.0min\n",
      "[CV 3/5; 8/121] START c1=0.0, c2=0.07...........................................\n",
      "[CV 3/5; 8/121] END c1=0.0, c2=0.07;, score=(train=0.917, test=0.727) total time=  51.9s\n",
      "[CV 1/5; 10/121] START c1=0.0, c2=0.09..........................................\n",
      "[CV 1/5; 10/121] END c1=0.0, c2=0.09;, score=(train=0.914, test=0.762) total time=  53.8s\n",
      "[CV 4/5; 11/121] START c1=0.0, c2=0.1...........................................\n",
      "[CV 4/5; 11/121] END c1=0.0, c2=0.1;, score=(train=0.911, test=0.757) total time=  54.9s\n",
      "[CV 2/5; 13/121] START c1=0.05, c2=0.01.........................................\n",
      "[CV 2/5; 13/121] END c1=0.05, c2=0.01;, score=(train=0.979, test=0.775) total time=  47.8s\n",
      "[CV 1/5; 15/121] START c1=0.05, c2=0.03.........................................\n",
      "[CV 1/5; 15/121] END c1=0.05, c2=0.03;, score=(train=0.981, test=0.784) total time=  49.4s\n",
      "[CV 4/5; 16/121] START c1=0.05, c2=0.04.........................................\n",
      "[CV 4/5; 16/121] END c1=0.05, c2=0.04;, score=(train=0.979, test=0.775) total time=  46.7s\n",
      "[CV 2/5; 18/121] START c1=0.05, c2=0.06.........................................\n",
      "[CV 2/5; 18/121] END c1=0.05, c2=0.06;, score=(train=0.977, test=0.775) total time=  47.3s\n",
      "[CV 1/5; 20/121] START c1=0.05, c2=0.08.........................................\n",
      "[CV 1/5; 20/121] END c1=0.05, c2=0.08;, score=(train=0.978, test=0.785) total time=  46.7s\n",
      "[CV 4/5; 21/121] START c1=0.05, c2=0.09.........................................\n",
      "[CV 4/5; 21/121] END c1=0.05, c2=0.09;, score=(train=0.975, test=0.773) total time=  48.0s\n",
      "[CV 2/5; 23/121] START c1=0.1, c2=0.0...........................................\n",
      "[CV 2/5; 23/121] END c1=0.1, c2=0.0;, score=(train=0.979, test=0.770) total time=  49.0s\n",
      "[CV 5/5; 24/121] START c1=0.1, c2=0.01..........................................\n",
      "[CV 5/5; 24/121] END c1=0.1, c2=0.01;, score=(train=0.983, test=0.741) total time=  44.6s\n",
      "[CV 3/5; 26/121] START c1=0.1, c2=0.03..........................................\n",
      "[CV 3/5; 26/121] END c1=0.1, c2=0.03;, score=(train=0.977, test=0.742) total time=  45.1s\n",
      "[CV 1/5; 28/121] START c1=0.1, c2=0.05..........................................\n",
      "[CV 1/5; 28/121] END c1=0.1, c2=0.05;, score=(train=0.979, test=0.785) total time=  42.5s\n",
      "[CV 3/5; 29/121] START c1=0.1, c2=0.06..........................................\n",
      "[CV 3/5; 29/121] END c1=0.1, c2=0.06;, score=(train=0.976, test=0.742) total time=  46.2s\n",
      "[CV 2/5; 31/121] START c1=0.1, c2=0.08..........................................\n",
      "[CV 2/5; 31/121] END c1=0.1, c2=0.08;, score=(train=0.974, test=0.774) total time=  48.4s\n",
      "[CV 5/5; 32/121] START c1=0.1, c2=0.09..........................................\n",
      "[CV 5/5; 32/121] END c1=0.1, c2=0.09;, score=(train=0.979, test=0.743) total time=  44.1s\n",
      "[CV 5/5; 1/121] START c1=0.0, c2=0.0............................................\n",
      "[CV 5/5; 1/121] END c1=0.0, c2=0.0;, score=(train=0.921, test=0.731) total time=  48.8s\n",
      "[CV 4/5; 3/121] START c1=0.0, c2=0.02...........................................\n",
      "[CV 4/5; 3/121] END c1=0.0, c2=0.02;, score=(train=0.911, test=0.749) total time=  53.9s\n",
      "[CV 2/5; 5/121] START c1=0.0, c2=0.04...........................................\n",
      "[CV 2/5; 5/121] END c1=0.0, c2=0.04;, score=(train=0.906, test=0.728) total time=  52.3s\n",
      "[CV 1/5; 7/121] START c1=0.0, c2=0.06...........................................\n",
      "[CV 1/5; 7/121] END c1=0.0, c2=0.06;, score=(train=0.913, test=0.757) total time=  59.2s\n",
      "[CV 4/5; 8/121] START c1=0.0, c2=0.07...........................................\n",
      "[CV 4/5; 8/121] END c1=0.0, c2=0.07;, score=(train=0.919, test=0.754) total time=  53.3s\n",
      "[CV 2/5; 10/121] START c1=0.0, c2=0.09..........................................\n",
      "[CV 2/5; 10/121] END c1=0.0, c2=0.09;, score=(train=0.913, test=0.733) total time=  57.8s\n",
      "[CV 1/5; 12/121] START c1=0.05, c2=0.0..........................................\n",
      "[CV 1/5; 12/121] END c1=0.05, c2=0.0;, score=(train=0.982, test=0.779) total time=  50.6s\n",
      "[CV 4/5; 13/121] START c1=0.05, c2=0.01.........................................\n",
      "[CV 4/5; 13/121] END c1=0.05, c2=0.01;, score=(train=0.981, test=0.767) total time=  46.3s\n",
      "[CV 2/5; 15/121] START c1=0.05, c2=0.03.........................................\n",
      "[CV 2/5; 15/121] END c1=0.05, c2=0.03;, score=(train=0.978, test=0.774) total time=  49.4s\n",
      "[CV 5/5; 16/121] START c1=0.05, c2=0.04.........................................\n",
      "[CV 5/5; 16/121] END c1=0.05, c2=0.04;, score=(train=0.983, test=0.748) total time=  47.4s\n",
      "[CV 3/5; 18/121] START c1=0.05, c2=0.06.........................................\n",
      "[CV 3/5; 18/121] END c1=0.05, c2=0.06;, score=(train=0.977, test=0.742) total time=  46.0s\n",
      "[CV 5/5; 19/121] START c1=0.05, c2=0.07.........................................\n",
      "[CV 5/5; 19/121] END c1=0.05, c2=0.07;, score=(train=0.981, test=0.747) total time=  46.9s\n",
      "[CV 2/5; 21/121] START c1=0.05, c2=0.09.........................................\n",
      "[CV 2/5; 21/121] END c1=0.05, c2=0.09;, score=(train=0.975, test=0.773) total time=  49.4s\n",
      "[CV 5/5; 22/121] START c1=0.05, c2=0.1..........................................\n",
      "[CV 5/5; 22/121] END c1=0.05, c2=0.1;, score=(train=0.979, test=0.749) total time=  48.9s\n",
      "[CV 4/5; 24/121] START c1=0.1, c2=0.01..........................................\n",
      "[CV 4/5; 24/121] END c1=0.1, c2=0.01;, score=(train=0.980, test=0.776) total time=  44.2s\n",
      "[CV 2/5; 26/121] START c1=0.1, c2=0.03..........................................\n",
      "[CV 2/5; 26/121] END c1=0.1, c2=0.03;, score=(train=0.978, test=0.775) total time=  46.4s\n",
      "[CV 5/5; 27/121] START c1=0.1, c2=0.04..........................................\n",
      "[CV 5/5; 27/121] END c1=0.1, c2=0.04;, score=(train=0.982, test=0.746) total time=  44.1s\n",
      "[CV 4/5; 29/121] START c1=0.1, c2=0.06..........................................\n",
      "[CV 4/5; 29/121] END c1=0.1, c2=0.06;, score=(train=0.976, test=0.779) total time=  44.3s\n",
      "[CV 1/5; 31/121] START c1=0.1, c2=0.08..........................................\n",
      "[CV 1/5; 31/121] END c1=0.1, c2=0.08;, score=(train=0.976, test=0.781) total time=  45.4s\n",
      "[CV 3/5; 32/121] START c1=0.1, c2=0.09..........................................\n",
      "[CV 3/5; 32/121] END c1=0.1, c2=0.09;, score=(train=0.974, test=0.741) total time=  42.8s\n",
      "[CV 1/5; 34/121] START c1=0.15000000000000002, c2=0.0...........................\n",
      "[CV 1/5; 34/121] END c1=0.15000000000000002, c2=0.0;, score=(train=0.981, test=0.783) total time=  42.4s\n"
     ]
    },
    {
     "name": "stdout",
     "output_type": "stream",
     "text": [
      "[CV 3/5; 2/121] START c1=0.0, c2=0.01...........................................\n",
      "[CV 3/5; 2/121] END c1=0.0, c2=0.01;, score=(train=0.920, test=0.723) total time=  47.9s\n",
      "[CV 1/5; 4/121] START c1=0.0, c2=0.03...........................................\n",
      "[CV 1/5; 4/121] END c1=0.0, c2=0.03;, score=(train=0.918, test=0.758) total time=  53.6s\n",
      "[CV 4/5; 5/121] START c1=0.0, c2=0.04...........................................\n",
      "[CV 4/5; 5/121] END c1=0.0, c2=0.04;, score=(train=0.918, test=0.761) total time=  51.0s\n",
      "[CV 2/5; 7/121] START c1=0.0, c2=0.06...........................................\n",
      "[CV 2/5; 7/121] END c1=0.0, c2=0.06;, score=(train=0.913, test=0.739) total time= 1.0min\n",
      "[CV 5/5; 8/121] START c1=0.0, c2=0.07...........................................\n",
      "[CV 5/5; 8/121] END c1=0.0, c2=0.07;, score=(train=0.918, test=0.728) total time=  51.1s\n",
      "[CV 3/5; 10/121] START c1=0.0, c2=0.09..........................................\n",
      "[CV 3/5; 10/121] END c1=0.0, c2=0.09;, score=(train=0.918, test=0.729) total time=  54.0s\n",
      "[CV 5/5; 11/121] START c1=0.0, c2=0.1...........................................\n",
      "[CV 5/5; 11/121] END c1=0.0, c2=0.1;, score=(train=0.914, test=0.726) total time=  53.2s\n",
      "[CV 3/5; 13/121] START c1=0.05, c2=0.01.........................................\n",
      "[CV 3/5; 13/121] END c1=0.05, c2=0.01;, score=(train=0.980, test=0.738) total time=  46.0s\n",
      "[CV 5/5; 14/121] START c1=0.05, c2=0.02.........................................\n",
      "[CV 5/5; 14/121] END c1=0.05, c2=0.02;, score=(train=0.983, test=0.748) total time=  48.9s\n",
      "[CV 3/5; 16/121] START c1=0.05, c2=0.04.........................................\n",
      "[CV 3/5; 16/121] END c1=0.05, c2=0.04;, score=(train=0.978, test=0.741) total time=  46.5s\n",
      "[CV 5/5; 17/121] START c1=0.05, c2=0.05.........................................\n",
      "[CV 5/5; 17/121] END c1=0.05, c2=0.05;, score=(train=0.982, test=0.743) total time=  47.1s\n",
      "[CV 3/5; 19/121] START c1=0.05, c2=0.07.........................................\n",
      "[CV 3/5; 19/121] END c1=0.05, c2=0.07;, score=(train=0.977, test=0.748) total time=  46.7s\n",
      "[CV 1/5; 21/121] START c1=0.05, c2=0.09.........................................\n",
      "[CV 1/5; 21/121] END c1=0.05, c2=0.09;, score=(train=0.977, test=0.784) total time=  48.3s\n",
      "[CV 4/5; 22/121] START c1=0.05, c2=0.1..........................................\n",
      "[CV 4/5; 22/121] END c1=0.05, c2=0.1;, score=(train=0.975, test=0.776) total time=  48.0s\n",
      "[CV 2/5; 24/121] START c1=0.1, c2=0.01..........................................\n",
      "[CV 2/5; 24/121] END c1=0.1, c2=0.01;, score=(train=0.979, test=0.773) total time=  46.2s\n",
      "[CV 5/5; 25/121] START c1=0.1, c2=0.02..........................................\n",
      "[CV 5/5; 25/121] END c1=0.1, c2=0.02;, score=(train=0.983, test=0.746) total time=  46.7s\n",
      "[CV 4/5; 27/121] START c1=0.1, c2=0.04..........................................\n",
      "[CV 4/5; 27/121] END c1=0.1, c2=0.04;, score=(train=0.978, test=0.771) total time=  44.4s\n",
      "[CV 2/5; 29/121] START c1=0.1, c2=0.06..........................................\n",
      "[CV 2/5; 29/121] END c1=0.1, c2=0.06;, score=(train=0.976, test=0.770) total time=  46.7s\n",
      "[CV 5/5; 30/121] START c1=0.1, c2=0.07..........................................\n",
      "[CV 5/5; 30/121] END c1=0.1, c2=0.07;, score=(train=0.980, test=0.746) total time=  47.5s\n",
      "[CV 4/5; 32/121] START c1=0.1, c2=0.09..........................................\n",
      "[CV 4/5; 32/121] END c1=0.1, c2=0.09;, score=(train=0.974, test=0.775) total time=  43.0s\n",
      "[CV 2/5; 34/121] START c1=0.15000000000000002, c2=0.0...........................\n",
      "[CV 2/5; 34/121] END c1=0.15000000000000002, c2=0.0;, score=(train=0.978, test=0.767) total time=  44.9s\n"
     ]
    }
   ],
   "source": [
    "crf_grid = train_model(config_grid, X_train, y_train, 'crf_model_grid.pkl')"
   ]
  },
  {
   "cell_type": "code",
   "execution_count": null,
   "id": "c18c0ea5",
   "metadata": {},
   "outputs": [],
   "source": [
    "print('best params:', crf_grid.best_params_)\n",
    "print('best CV score:', crf_grid.best_score_)"
   ]
  },
  {
   "cell_type": "code",
   "execution_count": null,
   "id": "08520a0e",
   "metadata": {},
   "outputs": [],
   "source": [
    "plot_hp(crf_grid, 'mean_test_score')"
   ]
  },
  {
   "cell_type": "code",
   "execution_count": null,
   "id": "720715d7",
   "metadata": {},
   "outputs": [],
   "source": []
  }
 ],
 "metadata": {
  "kernelspec": {
   "display_name": "Python 3 (ipykernel)",
   "language": "python",
   "name": "python3"
  },
  "language_info": {
   "codemirror_mode": {
    "name": "ipython",
    "version": 3
   },
   "file_extension": ".py",
   "mimetype": "text/x-python",
   "name": "python",
   "nbconvert_exporter": "python",
   "pygments_lexer": "ipython3",
   "version": "3.10.2"
  }
 },
 "nbformat": 4,
 "nbformat_minor": 5
}
