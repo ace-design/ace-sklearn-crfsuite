{
 "cells": [
  {
   "cell_type": "markdown",
   "id": "b4da3590-de15-4fbe-9b51-8192a80c9a2e",
   "metadata": {},
   "source": [
    "# CRF Tutorial\n",
    "\n",
    "  - Author: [Sébastien Mosser](mossers@mcmaster.ca)\n",
    "\n",
    "this tutorial is _heavily inspired_ by the one provided by the original `sklearn_crfsuite` project, available here: [https://sklearn-crfsuite.readthedocs.io/en/latest/tutorial.html#check-best-estimator-on-our-test-data](https://sklearn-crfsuite.readthedocs.io/en/latest/tutorial.html#check-best-estimator-on-our-test-data). _heavily inspired_ as in very gently adapted to fit the new API + adding a GridSearch."
   ]
  },
  {
   "cell_type": "markdown",
   "id": "b5a0ae53-6302-4a3e-99d5-d9fbb0ccc476",
   "metadata": {},
   "source": [
    "## Installing the dataset\n",
    "\n",
    "We are using the _CONLL 2002 Named Entity Recognition Corpus_ for this tutorial, available thanks to `nltk`."
   ]
  },
  {
   "cell_type": "code",
   "execution_count": 1,
   "id": "8471b82e-69bc-4c41-855f-0aeb3b7cca24",
   "metadata": {},
   "outputs": [],
   "source": [
    "import nltk"
   ]
  },
  {
   "cell_type": "code",
   "execution_count": 2,
   "id": "3beca667-d0b3-473b-b106-1394da516685",
   "metadata": {},
   "outputs": [
    {
     "name": "stderr",
     "output_type": "stream",
     "text": [
      "[nltk_data] Downloading package conll2002 to\n",
      "[nltk_data]     /Users/mosser/nltk_data...\n",
      "[nltk_data]   Package conll2002 is already up-to-date!\n"
     ]
    },
    {
     "data": {
      "text/plain": [
       "True"
      ]
     },
     "execution_count": 2,
     "metadata": {},
     "output_type": "execute_result"
    }
   ],
   "source": [
    "nltk.download('conll2002')"
   ]
  },
  {
   "cell_type": "markdown",
   "id": "30dbcb10",
   "metadata": {},
   "source": [
    "A sentence is defined as a sequence of words. Each word is a tuple (TOKEN, POS, LABEL), where:\n",
    "  - TOKEN is the word, \n",
    "  - POS is the part-of-speech (grammatical role), \n",
    "  - and LAB the classified label"
   ]
  },
  {
   "cell_type": "code",
   "execution_count": 3,
   "id": "740359a0",
   "metadata": {},
   "outputs": [],
   "source": [
    "def sent2tokens(sentence): # the token available in the text\n",
    "    return [tok for tok, _, _ in sentence]\n",
    "\n",
    "def sent2pos(sentence): # Part-of-speech (grammatical) tags\n",
    "    return [pos for _, pos, _ in sentence]\n",
    "\n",
    "def sent2labels(sentence): # Label is what we are looking for\n",
    "    return [label for _, _, label in sentence]"
   ]
  },
  {
   "cell_type": "code",
   "execution_count": 4,
   "id": "6588dd45",
   "metadata": {},
   "outputs": [
    {
     "name": "stdout",
     "output_type": "stream",
     "text": [
      "[('El', 'DA', 'O'), ('Abogado', 'NC', 'B-PER'), ('General', 'AQ', 'I-PER'), ('del', 'SP', 'I-PER'), ('Estado', 'NC', 'I-PER'), (',', 'Fc', 'O'), ('Daryl', 'VMI', 'B-PER'), ('Williams', 'NC', 'I-PER'), (',', 'Fc', 'O'), ('subrayó', 'VMI', 'O'), ('hoy', 'RG', 'O'), ('la', 'DA', 'O'), ('necesidad', 'NC', 'O'), ('de', 'SP', 'O'), ('tomar', 'VMN', 'O'), ('medidas', 'NC', 'O'), ('para', 'SP', 'O'), ('proteger', 'VMN', 'O'), ('al', 'SP', 'O'), ('sistema', 'NC', 'O'), ('judicial', 'AQ', 'O'), ('australiano', 'AQ', 'O'), ('frente', 'RG', 'O'), ('a', 'SP', 'O'), ('una', 'DI', 'O'), ('página', 'NC', 'O'), ('de', 'SP', 'O'), ('internet', 'NC', 'O'), ('que', 'PR', 'O'), ('imposibilita', 'VMI', 'O'), ('el', 'DA', 'O'), ('cumplimiento', 'NC', 'O'), ('de', 'SP', 'O'), ('los', 'DA', 'O'), ('principios', 'NC', 'O'), ('básicos', 'AQ', 'O'), ('de', 'SP', 'O'), ('la', 'DA', 'O'), ('Ley', 'NC', 'B-MISC'), ('.', 'Fp', 'O')]\n"
     ]
    }
   ],
   "source": [
    "s = nltk.corpus.conll2002.iob_sents('esp.train')[2]\n",
    "print(s)"
   ]
  },
  {
   "cell_type": "code",
   "execution_count": 5,
   "id": "f17a9322",
   "metadata": {
    "scrolled": true
   },
   "outputs": [
    {
     "data": {
      "text/plain": [
       "'El Abogado General del Estado , Daryl Williams , subrayó hoy la necesidad de tomar medidas para proteger al sistema judicial australiano frente a una página de internet que imposibilita el cumplimiento de los principios básicos de la Ley .'"
      ]
     },
     "execution_count": 5,
     "metadata": {},
     "output_type": "execute_result"
    }
   ],
   "source": [
    "\" \".join(sent2tokens(s))"
   ]
  },
  {
   "cell_type": "code",
   "execution_count": 6,
   "id": "1148a7c0",
   "metadata": {},
   "outputs": [
    {
     "data": {
      "text/plain": [
       "'DA NC AQ SP NC Fc VMI NC Fc VMI RG DA NC SP VMN NC SP VMN SP NC AQ AQ RG SP DI NC SP NC PR VMI DA NC SP DA NC AQ SP DA NC Fp'"
      ]
     },
     "execution_count": 6,
     "metadata": {},
     "output_type": "execute_result"
    }
   ],
   "source": [
    "\" \".join(sent2pos(s))"
   ]
  },
  {
   "cell_type": "code",
   "execution_count": 7,
   "id": "9789d2fb",
   "metadata": {},
   "outputs": [
    {
     "data": {
      "text/plain": [
       "'O B-PER I-PER I-PER I-PER O B-PER I-PER O O O O O O O O O O O O O O O O O O O O O O O O O O O O O O B-MISC O'"
      ]
     },
     "execution_count": 7,
     "metadata": {},
     "output_type": "execute_result"
    }
   ],
   "source": [
    "\" \".join(sent2labels(s))"
   ]
  },
  {
   "cell_type": "markdown",
   "id": "c40edc60",
   "metadata": {},
   "source": [
    "## Extracting features from the dataset"
   ]
  },
  {
   "cell_type": "markdown",
   "id": "97c53e02",
   "metadata": {},
   "source": [
    "The learning process works on _features_, which are elements used to characterize the sentence. To do this, we define a function that map each word of a given sentence into a set of elements that characterize it (is it capitalized? a digit? what is the associated POS?, ...). We also include information on the previous and next word, when they exist."
   ]
  },
  {
   "cell_type": "code",
   "execution_count": 8,
   "id": "c78890a3",
   "metadata": {},
   "outputs": [],
   "source": [
    "def word2features(sent, i):\n",
    "    \"\"\" transform the i-st word in a sentence into a usable feature vector (here a dict)\"\"\"\n",
    "    word = sent[i][0]\n",
    "    postag = sent[i][1]\n",
    "\n",
    "    features = { # Features for each and every word in the dataset\n",
    "        'bias': 1.0,\n",
    "        'word.lower()':   word.lower(),   # lower case word to harmonize -> str\n",
    "        'word[-3:]':      word[-3:],      # last 3 letters -> str\n",
    "        'word[-2:]':      word[-2:],      # last 2 letters -> str\n",
    "        'word.isupper()': word.isupper(), # all letter upopercase -> bool\n",
    "        'word.istitle()': word.istitle(), # first letter uppercase -> bool\n",
    "        'word.isdigit()': word.isdigit(), # is a digit? -> bool\n",
    "        'postag':         postag,         # Part-of-speech tag\n",
    "        'postag[:2]':     postag[:2],     # first 2 letters of the POS tag\n",
    "    }\n",
    "    ## Update for words that are not the first one\n",
    "    if i > 0: \n",
    "        word1 = sent[i-1][0]      # previous word\n",
    "        postag1 = sent[i-1][1]    # previous POS tag\n",
    "        features.update({\n",
    "            '-1:word.lower()':   word1.lower(),    # Previous word spelled uniformously\n",
    "            '-1:word.istitle()': word1.istitle(),  # is it a title?\n",
    "            '-1:word.isupper()': word1.isupper(),  # is it upper case?\n",
    "            '-1:postag':         postag1,          # POS tag for the previous word\n",
    "            '-1:postag[:2]':     postag1[:2],      # first 2 letters of the previous POS tag\n",
    "        })\n",
    "    else:\n",
    "        features['BOS'] = True # If the first one, Beginning Of Sentence is True\n",
    "\n",
    "    # Update for words that are not the last ones\n",
    "    if i < len(sent)-1:\n",
    "        word1 = sent[i+1][0]   # Next word\n",
    "        postag1 = sent[i+1][1] # next POS tag\n",
    "        features.update({\n",
    "            '+1:word.lower()':   word1.lower(),   # next word spelled uniformously\n",
    "            '+1:word.istitle()': word1.istitle(), # is it a title?\n",
    "            '+1:word.isupper()': word1.isupper(), # is it uppercase?\n",
    "            '+1:postag':         postag1,         # next POS tag\n",
    "            '+1:postag[:2]':     postag1[:2],     # first 2 letters of the POS tag\n",
    "        })\n",
    "    else:\n",
    "        features['EOS'] = True # If the last one, then End Of Sentence is True.\n",
    "\n",
    "    return features # return the feature vector for this very sentence"
   ]
  },
  {
   "cell_type": "markdown",
   "id": "74ec7af2",
   "metadata": {},
   "source": [
    "Transformign a sentence means applying this transformation to each and every word in the sentence."
   ]
  },
  {
   "cell_type": "code",
   "execution_count": 9,
   "id": "9929b5a0",
   "metadata": {},
   "outputs": [],
   "source": [
    "def sent2features(sent):\n",
    "    \"\"\"Transform a sentences into features\"\"\"\n",
    "    return [word2features(sent, i) for i in range(len(sent))]"
   ]
  },
  {
   "cell_type": "code",
   "execution_count": 10,
   "id": "a883d52e",
   "metadata": {},
   "outputs": [
    {
     "name": "stdout",
     "output_type": "stream",
     "text": [
      "('El', 'DA', 'O') ('Abogado', 'NC', 'B-PER') ('General', 'AQ', 'I-PER')\n"
     ]
    }
   ],
   "source": [
    "print(s[0], s[1], s[2])"
   ]
  },
  {
   "cell_type": "code",
   "execution_count": 11,
   "id": "99898d26",
   "metadata": {},
   "outputs": [
    {
     "data": {
      "text/plain": [
       "{'bias': 1.0,\n",
       " 'word.lower()': 'abogado',\n",
       " 'word[-3:]': 'ado',\n",
       " 'word[-2:]': 'do',\n",
       " 'word.isupper()': False,\n",
       " 'word.istitle()': True,\n",
       " 'word.isdigit()': False,\n",
       " 'postag': 'NC',\n",
       " 'postag[:2]': 'NC',\n",
       " '-1:word.lower()': 'el',\n",
       " '-1:word.istitle()': True,\n",
       " '-1:word.isupper()': False,\n",
       " '-1:postag': 'DA',\n",
       " '-1:postag[:2]': 'DA',\n",
       " '+1:word.lower()': 'general',\n",
       " '+1:word.istitle()': True,\n",
       " '+1:word.isupper()': False,\n",
       " '+1:postag': 'AQ',\n",
       " '+1:postag[:2]': 'AQ'}"
      ]
     },
     "execution_count": 11,
     "metadata": {},
     "output_type": "execute_result"
    }
   ],
   "source": [
    "sent2features(s)[1]"
   ]
  },
  {
   "cell_type": "markdown",
   "id": "c6658341",
   "metadata": {},
   "source": [
    "## Extracting the training and validation datasets"
   ]
  },
  {
   "cell_type": "code",
   "execution_count": 12,
   "id": "3905c58f",
   "metadata": {},
   "outputs": [],
   "source": [
    "train_sents = list(nltk.corpus.conll2002.iob_sents('esp.train')) # training sentences\n",
    "test_sents = list(nltk.corpus.conll2002.iob_sents('esp.testb'))  # test sentences\n",
    "\n",
    "X_train = [sent2features(s) for s in train_sents] # Features for the training set\n",
    "y_train = [sent2labels(s) for s in train_sents]   # expected labels\n",
    "\n",
    "X_test = [sent2features(s) for s in test_sents]   # Features for the test set\n",
    "y_test = [sent2labels(s) for s in test_sents]     # expected labels"
   ]
  },
  {
   "cell_type": "markdown",
   "id": "fff614e2",
   "metadata": {},
   "source": [
    "## Training the initial model\n",
    "\n",
    "scikit-learn comes with a `model.fit(features, labels)` function to train automatically a given `model` to predict `labels` out of `features`. We wrap this function with some engineering sugar to store the trained model and avoid unecessary training."
   ]
  },
  {
   "cell_type": "code",
   "execution_count": 13,
   "id": "3b5cd2a6",
   "metadata": {},
   "outputs": [],
   "source": [
    "import pickle\n",
    "import bz2\n",
    "import os\n",
    "import time\n",
    "\n",
    "def train_model(model, x_features, y_labels, file):\n",
    "    \"\"\"Train model so that X fits Y, used file to store the model and avoid unnecessary training\"\"\"\n",
    "    start = time.time()\n",
    "    if os.path.exists(file):\n",
    "        print(\"Loading from memory\")\n",
    "        with bz2.BZ2File(file, 'r') as infile:\n",
    "            model = pickle.load(infile)\n",
    "    else:\n",
    "        print(\"Starting training\")\n",
    "        # training the model to fit the X space (features) with the Y one (labels)\n",
    "        model.fit(x_features, y_labels)  ## <<== this is the training call\n",
    "        print(\"training completed\")\n",
    "        with bz2.BZ2File(file, 'w') as outfile:\n",
    "            print(\"dumping model into memory\")\n",
    "            pickle.dump(model, outfile)\n",
    "\n",
    "    end = time.time()\n",
    "    print('Execution time:', end-start, 'seconds')\n",
    "    return model"
   ]
  },
  {
   "cell_type": "markdown",
   "id": "1b5c0d6e",
   "metadata": {},
   "source": [
    "We can now create a model describing the kind of learning algorithm we want to use."
   ]
  },
  {
   "cell_type": "code",
   "execution_count": 14,
   "id": "0bfb8c37",
   "metadata": {},
   "outputs": [],
   "source": [
    "from ace_sklearn_crfsuite import CRF"
   ]
  },
  {
   "cell_type": "code",
   "execution_count": 15,
   "id": "d2fcf508",
   "metadata": {},
   "outputs": [
    {
     "name": "stdout",
     "output_type": "stream",
     "text": [
      "Loading from memory\n",
      "Execution time: 0.08759403228759766 seconds\n"
     ]
    }
   ],
   "source": [
    "config = CRF(\n",
    "    algorithm='lbfgs',\n",
    "    c1=0.1,\n",
    "    c2=0.1,\n",
    "    max_iterations=100,\n",
    "    all_possible_transitions=True\n",
    ")\n",
    "crf = train_model(config, X_train, y_train, \"crf_model.pkl\")"
   ]
  },
  {
   "cell_type": "markdown",
   "id": "584a3943",
   "metadata": {},
   "source": [
    "## Evaluating the model"
   ]
  },
  {
   "cell_type": "markdown",
   "id": "e197a7aa",
   "metadata": {},
   "source": [
    "We can now ask our trained model to _predict_ labels for the training set."
   ]
  },
  {
   "cell_type": "code",
   "execution_count": 16,
   "id": "215befaa",
   "metadata": {},
   "outputs": [],
   "source": [
    "y_pred = crf.predict(X_test)"
   ]
  },
  {
   "cell_type": "markdown",
   "id": "1a455c84",
   "metadata": {},
   "source": [
    "In our case, the `O` labels represents words that are not important in the text, so we remove them for evaluation purposes."
   ]
  },
  {
   "cell_type": "code",
   "execution_count": 17,
   "id": "4723452b",
   "metadata": {},
   "outputs": [
    {
     "name": "stdout",
     "output_type": "stream",
     "text": [
      "Relevant labels: ['B-LOC', 'B-ORG', 'B-PER', 'I-PER', 'B-MISC', 'I-ORG', 'I-LOC', 'I-MISC']\n"
     ]
    }
   ],
   "source": [
    "available_labels = list(crf.classes_)\n",
    "available_labels.remove('O')\n",
    "\n",
    "print(\"Relevant labels: \" + str(available_labels))"
   ]
  },
  {
   "cell_type": "markdown",
   "id": "4f3c2fcb",
   "metadata": {},
   "source": [
    "We can now rely on scikit learn to compute metrics for us."
   ]
  },
  {
   "cell_type": "code",
   "execution_count": 18,
   "id": "e77379b2",
   "metadata": {},
   "outputs": [],
   "source": [
    "from sklearn.metrics import make_scorer, classification_report\n",
    "from ace_sklearn_crfsuite import metrics"
   ]
  },
  {
   "cell_type": "code",
   "execution_count": 19,
   "id": "864208b9",
   "metadata": {},
   "outputs": [
    {
     "name": "stdout",
     "output_type": "stream",
     "text": [
      "Weighted f-measure:0.7964686316443963\n"
     ]
    }
   ],
   "source": [
    "f1 = metrics.flat_f1_score(y_test, y_pred, average='weighted', labels=available_labels)\n",
    "print(\"Weighted f-measure:\" + str(f1))"
   ]
  },
  {
   "cell_type": "code",
   "execution_count": 20,
   "id": "614a87b4",
   "metadata": {},
   "outputs": [
    {
     "name": "stdout",
     "output_type": "stream",
     "text": [
      "              precision    recall  f1-score   support\n",
      "\n",
      "       B-LOC      0.810     0.784     0.797      1084\n",
      "       I-LOC      0.690     0.637     0.662       325\n",
      "      B-MISC      0.731     0.569     0.640       339\n",
      "      I-MISC      0.699     0.589     0.639       557\n",
      "       B-ORG      0.807     0.832     0.820      1400\n",
      "       I-ORG      0.852     0.786     0.818      1104\n",
      "       B-PER      0.850     0.884     0.867       735\n",
      "       I-PER      0.893     0.943     0.917       634\n",
      "\n",
      "   micro avg      0.813     0.787     0.799      6178\n",
      "   macro avg      0.791     0.753     0.770      6178\n",
      "weighted avg      0.809     0.787     0.796      6178\n",
      "\n"
     ]
    }
   ],
   "source": [
    "sorted_labels = sorted(\n",
    "    available_labels,\n",
    "    key=lambda name: (name[1:], name[0])\n",
    ")\n",
    "\n",
    "report = metrics.flat_classification_report(\n",
    "    y_test, y_pred, labels=sorted_labels, digits=3\n",
    ")\n",
    "print(report)"
   ]
  },
  {
   "cell_type": "markdown",
   "id": "fe016294",
   "metadata": {},
   "source": [
    "## Hyperparameter optimization (Random)"
   ]
  },
  {
   "cell_type": "markdown",
   "id": "1ca5bf55",
   "metadata": {},
   "source": [
    "CRF uses two parameters, named `c1` and `c2`. The previous model used fixed parameter: \n",
    "  - c1=0.1\n",
    "  - c2=0.1\n",
    "\n",
    "What if we some other settings were better? We wil create a configuration that does not fix these parameter, and a _random_ exploration space to try to find better results"
   ]
  },
  {
   "cell_type": "code",
   "execution_count": 21,
   "id": "395811de",
   "metadata": {},
   "outputs": [],
   "source": [
    "crf_hp = CRF(\n",
    "    algorithm='lbfgs',\n",
    "    max_iterations=100,\n",
    "    all_possible_transitions=True,\n",
    ")"
   ]
  },
  {
   "cell_type": "code",
   "execution_count": 22,
   "id": "9931a97b",
   "metadata": {},
   "outputs": [],
   "source": [
    "import scipy.stats"
   ]
  },
  {
   "cell_type": "code",
   "execution_count": 23,
   "id": "c4958419",
   "metadata": {},
   "outputs": [],
   "source": [
    "params_space = { # Isntead of fixing c1 and c2 to 0.1, we let the system explore the space to find the \"best\" value\n",
    "    'c1': scipy.stats.expon(scale=0.5),\n",
    "    'c2': scipy.stats.expon(scale=0.05),\n",
    "}"
   ]
  },
  {
   "cell_type": "markdown",
   "id": "a3491795",
   "metadata": {},
   "source": [
    "How to define \"best\" results? We can consider the averaged f1-measure. We create a _scorer_ that will be used during the exploration to compare the models and keep the best one"
   ]
  },
  {
   "cell_type": "code",
   "execution_count": 24,
   "id": "c3e94085",
   "metadata": {},
   "outputs": [],
   "source": [
    "f1_scorer = make_scorer(metrics.flat_f1_score,\n",
    "                        average='weighted', labels=available_labels)"
   ]
  },
  {
   "cell_type": "markdown",
   "id": "e8b75002",
   "metadata": {},
   "source": [
    "We can now create a _randomized_ exploration, and let scikit-learn explore this for us."
   ]
  },
  {
   "cell_type": "code",
   "execution_count": 25,
   "id": "3a4769a7",
   "metadata": {},
   "outputs": [],
   "source": [
    "from sklearn.model_selection import RandomizedSearchCV\n",
    "config_rs = RandomizedSearchCV(crf_hp, params_space,\n",
    "                               cv=5, verbose=100, n_jobs=-1, n_iter=50,\n",
    "                               scoring=f1_scorer, \n",
    "                               return_train_score=True, refit=False)"
   ]
  },
  {
   "cell_type": "markdown",
   "id": "e403d3ef",
   "metadata": {},
   "source": [
    "Let's train the model! (50 candidates, with 5 folds each, means 250 training). It will take a while."
   ]
  },
  {
   "cell_type": "code",
   "execution_count": 26,
   "id": "0e08c375",
   "metadata": {},
   "outputs": [
    {
     "name": "stdout",
     "output_type": "stream",
     "text": [
      "Loading from memory\n",
      "Execution time: 0.005694150924682617 seconds\n"
     ]
    }
   ],
   "source": [
    "crf_hp = train_model(config_rs, X_train, y_train, 'crf_model_hp.pkl')"
   ]
  },
  {
   "cell_type": "code",
   "execution_count": 27,
   "id": "522f9603",
   "metadata": {},
   "outputs": [
    {
     "name": "stdout",
     "output_type": "stream",
     "text": [
      "best params: {'c1': 0.05689423574832278, 'c2': 0.03781509311811296}\n",
      "best CV score: 0.7648940338468285\n"
     ]
    }
   ],
   "source": [
    "print('best params:', crf_hp.best_params_)\n",
    "print('best CV score:', crf_hp.best_score_)"
   ]
  },
  {
   "cell_type": "markdown",
   "id": "2d431c0e",
   "metadata": {},
   "source": [
    "## Plotting the parameter space"
   ]
  },
  {
   "cell_type": "markdown",
   "id": "566d8049",
   "metadata": {},
   "source": [
    "the obtaine model might be better (by luck), but had chances to actually be worse than our first paramneters. exploriong randomly a large space did not help. But we can use this to check where to look fur further optimization"
   ]
  },
  {
   "cell_type": "code",
   "execution_count": 28,
   "id": "12411a2d",
   "metadata": {},
   "outputs": [],
   "source": [
    "import matplotlib.pyplot as plt\n",
    "plt.style.use('ggplot')"
   ]
  },
  {
   "cell_type": "code",
   "execution_count": 29,
   "id": "4e117e53",
   "metadata": {},
   "outputs": [],
   "source": [
    "def plot_hp(hp_model, color):\n",
    "    _x = [s['c1'] for s in hp_model.cv_results_['params']]\n",
    "    _y = [s['c2'] for s in hp_model.cv_results_['params']]\n",
    "    _c = [s for s in hp_model.cv_results_[color]]\n",
    "\n",
    "    fig = plt.figure()\n",
    "\n",
    "    plt.scatter(_x, _y, c=_c, s=60, alpha=0.3,cmap='coolwarm')\n",
    "    plt.xlabel(\"C1\")\n",
    "    plt.ylabel(\"C2\")\n",
    "    plt.title(\"Exploring {C1,C2} parameter space\")\n",
    "    cb = plt.colorbar()\n",
    "    cb.ax.set_ylabel('F1-score')"
   ]
  },
  {
   "cell_type": "code",
   "execution_count": 30,
   "id": "39fa8605",
   "metadata": {},
   "outputs": [
    {
     "data": {
      "image/png": "[encoded data removed]",
      "text/plain": [
       "<Figure size 432x288 with 2 Axes>"
      ]
     },
     "metadata": {
      "needs_background": "light"
     },
     "output_type": "display_data"
    }
   ],
   "source": [
    "plot_hp(crf_hp, 'mean_train_score') # How it behave on the training sets"
   ]
  },
  {
   "cell_type": "code",
   "execution_count": 31,
   "id": "246e63f8",
   "metadata": {},
   "outputs": [
    {
     "data": {
      "image/png": "[encoded data removed]",
      "text/plain": [
       "<Figure size 432x288 with 2 Axes>"
      ]
     },
     "metadata": {
      "needs_background": "light"
     },
     "output_type": "display_data"
    }
   ],
   "source": [
    "plot_hp(crf_hp, 'mean_test_score') # How it behave on the validation sets"
   ]
  },
  {
   "cell_type": "markdown",
   "id": "de46a812",
   "metadata": {},
   "source": [
    "So it looks like the bottom-left corner of our exploration space produces the best f-measure."
   ]
  },
  {
   "cell_type": "markdown",
   "id": "91d44ec3",
   "metadata": {},
   "source": [
    "## Using a grid based search hyperparameter optimization"
   ]
  },
  {
   "cell_type": "code",
   "execution_count": 32,
   "id": "e6d8b3d8",
   "metadata": {},
   "outputs": [],
   "source": [
    "import numpy as np"
   ]
  },
  {
   "cell_type": "code",
   "execution_count": 33,
   "id": "875df4b0",
   "metadata": {},
   "outputs": [],
   "source": [
    "crf_grid = CRF(\n",
    "    algorithm='lbfgs',\n",
    "    max_iterations=100,\n",
    "    all_possible_transitions=True,\n",
    ")"
   ]
  },
  {
   "cell_type": "code",
   "execution_count": 34,
   "id": "b6d19e7d",
   "metadata": {},
   "outputs": [],
   "source": [
    "params_space_grid = {\n",
    "    \"c1\": np.linspace(0.0, 0.5, 11),\n",
    "    \"c2\": np.linspace(0.0, 0.1, 11)\n",
    "}"
   ]
  },
  {
   "cell_type": "code",
   "execution_count": 35,
   "id": "d0eb2fa0",
   "metadata": {},
   "outputs": [
    {
     "data": {
      "text/plain": [
       "{'c1': array([0.  , 0.05, 0.1 , 0.15, 0.2 , 0.25, 0.3 , 0.35, 0.4 , 0.45, 0.5 ]),\n",
       " 'c2': array([0.  , 0.01, 0.02, 0.03, 0.04, 0.05, 0.06, 0.07, 0.08, 0.09, 0.1 ])}"
      ]
     },
     "execution_count": 35,
     "metadata": {},
     "output_type": "execute_result"
    }
   ],
   "source": [
    "params_space_grid"
   ]
  },
  {
   "cell_type": "code",
   "execution_count": 36,
   "id": "8ac3556f",
   "metadata": {},
   "outputs": [],
   "source": [
    "from sklearn.model_selection import GridSearchCV\n",
    "config_grid = GridSearchCV(crf_grid, params_space_grid,\n",
    "                               cv=5, verbose=100, n_jobs=-1,\n",
    "                               scoring=f1_scorer, \n",
    "                               return_train_score=True, refit=False)"
   ]
  },
  {
   "cell_type": "markdown",
   "id": "868888bb",
   "metadata": {},
   "source": [
    "We're going to explore a space 3 times larger thjan the rendom one... it'll take a while"
   ]
  },
  {
   "cell_type": "code",
   "execution_count": 37,
   "id": "507ae6c7",
   "metadata": {},
   "outputs": [
    {
     "name": "stdout",
     "output_type": "stream",
     "text": [
      "Loading from memory\n",
      "Execution time: 0.0029900074005126953 seconds\n"
     ]
    }
   ],
   "source": [
    "crf_grid = train_model(config_grid, X_train, y_train, 'crf_model_grid.pkl')"
   ]
  },
  {
   "cell_type": "code",
   "execution_count": 38,
   "id": "c18c0ea5",
   "metadata": {},
   "outputs": [
    {
     "name": "stdout",
     "output_type": "stream",
     "text": [
      "best params: {'c1': 0.05, 'c2': 0.08}\n",
      "best CV score: 0.7664458315807401\n"
     ]
    }
   ],
   "source": [
    "print('best params:', crf_grid.best_params_)\n",
    "print('best CV score:', crf_grid.best_score_)"
   ]
  },
  {
   "cell_type": "code",
   "execution_count": 39,
   "id": "08520a0e",
   "metadata": {},
   "outputs": [
    {
     "data": {
      "image/png": "[encoded data removed]",
      "text/plain": [
       "<Figure size 432x288 with 2 Axes>"
      ]
     },
     "metadata": {
      "needs_background": "light"
     },
     "output_type": "display_data"
    }
   ],
   "source": [
    "plot_hp(crf_grid, 'mean_test_score')"
   ]
  },
  {
   "cell_type": "markdown",
   "id": "f3b98b05",
   "metadata": {},
   "source": [
    "## What was learned by the model?"
   ]
  },
  {
   "cell_type": "markdown",
   "id": "ec7a8899",
   "metadata": {},
   "source": [
    "A CRF model is different that the one obtained as the output of a Random orGrid search. A solution is to retrain a brand-new CRF model with the parameters found out of the hyperparameter optimisation process to sort this out. Here, we are going to look at the first model trained (i.e., `crf`)."
   ]
  },
  {
   "cell_type": "code",
   "execution_count": 40,
   "id": "8a6a22bf",
   "metadata": {},
   "outputs": [],
   "source": [
    "from collections import Counter"
   ]
  },
  {
   "cell_type": "markdown",
   "id": "1bd59016",
   "metadata": {},
   "source": [
    "We start by looking at the transitions"
   ]
  },
  {
   "cell_type": "code",
   "execution_count": 41,
   "id": "7afe791e",
   "metadata": {},
   "outputs": [],
   "source": [
    "def print_transitions(trans_features):\n",
    "    for (label_from, label_to), weight in trans_features:\n",
    "        print(\"%-6s -> %-7s %0.6f\" % (label_from, label_to, weight))"
   ]
  },
  {
   "cell_type": "code",
   "execution_count": 53,
   "id": "51801cde",
   "metadata": {},
   "outputs": [
    {
     "name": "stdout",
     "output_type": "stream",
     "text": [
      "Top likely transitions:\n",
      "B-ORG  -> I-ORG   7.500912\n",
      "I-ORG  -> I-ORG   7.206322\n",
      "B-MISC -> I-MISC  6.833142\n",
      "I-MISC -> I-MISC  6.753222\n",
      "B-PER  -> I-PER   6.404557\n",
      "B-LOC  -> I-LOC   5.696274\n",
      "I-LOC  -> I-LOC   4.877422\n",
      "I-PER  -> I-PER   4.709231\n",
      "O      -> O       3.784430\n",
      "O      -> B-ORG   2.754974\n"
     ]
    }
   ],
   "source": [
    "print(\"Top likely transitions:\")\n",
    "print_transitions(Counter(crf.transition_features_).most_common(10))"
   ]
  },
  {
   "cell_type": "code",
   "execution_count": 55,
   "id": "46c5f9c9",
   "metadata": {},
   "outputs": [
    {
     "name": "stdout",
     "output_type": "stream",
     "text": [
      "Top unlikely transitions:\n",
      "I-ORG  -> I-LOC   -2.536158\n",
      "I-MISC -> I-LOC   -2.557052\n",
      "B-ORG  -> B-MISC  -2.581202\n",
      "B-PER  -> B-PER   -2.825385\n",
      "I-PER  -> B-MISC  -2.966281\n",
      "B-MISC -> B-MISC  -3.028264\n",
      "O      -> I-MISC  -5.136612\n",
      "O      -> I-ORG   -5.230042\n",
      "O      -> I-PER   -5.357097\n",
      "O      -> I-LOC   -5.968293\n"
     ]
    }
   ],
   "source": [
    "print(\"Top unlikely transitions:\")\n",
    "print_transitions(Counter(crf.transition_features_).most_common()[-10:])"
   ]
  },
  {
   "cell_type": "markdown",
   "id": "d838545b",
   "metadata": {},
   "source": [
    "Let's now look at the features inside the models"
   ]
  },
  {
   "cell_type": "code",
   "execution_count": 56,
   "id": "af97a64d",
   "metadata": {},
   "outputs": [],
   "source": [
    "def print_state_features(state_features):\n",
    "    for (attr, label), weight in state_features:\n",
    "        print(\"%0.6f %-8s %s\" % (weight, label, attr))"
   ]
  },
  {
   "cell_type": "code",
   "execution_count": 58,
   "id": "c30b85ba",
   "metadata": {},
   "outputs": [
    {
     "name": "stdout",
     "output_type": "stream",
     "text": [
      "Top positive:\n",
      "9.810583 B-ORG    word.lower():efe-cantabria\n",
      "8.587255 B-ORG    word.lower():psoe-progresistas\n",
      "6.026318 I-ORG    -1:word.lower():l\n",
      "4.902771 B-ORG    word.lower():xfera\n",
      "4.896558 B-LOC    -1:word.lower():cantabria\n",
      "4.867565 O        BOS\n",
      "4.810829 B-LOC    word.lower():líbano\n",
      "4.760313 B-ORG    word.lower():telefónica\n",
      "4.723549 B-MISC   word.lower():justicia\n",
      "4.674730 B-ORG    word[-2:]:-e\n"
     ]
    }
   ],
   "source": [
    "print(\"Top positive:\")\n",
    "print_state_features(Counter(crf.state_features_).most_common(10))"
   ]
  },
  {
   "cell_type": "code",
   "execution_count": 60,
   "id": "eafe57b9",
   "metadata": {},
   "outputs": [
    {
     "name": "stdout",
     "output_type": "stream",
     "text": [
      "Top positive:\n",
      "-2.456323 O        word[-3:]:730\n",
      "-2.706624 O        word[-3:]:LOS\n",
      "-3.051235 O        word.lower():mas\n",
      "-3.053493 O        -1:word.lower():españolas\n",
      "-3.229068 I-PER    -1:word.lower():san\n",
      "-3.444361 B-PER    -1:word.lower():del\n",
      "-3.911123 O        -1:word.lower():celebrarán\n",
      "-4.310235 O        word[-2:]:om\n",
      "-5.999096 O        word.isupper()\n",
      "-8.285736 O        word.istitle()\n"
     ]
    }
   ],
   "source": [
    "print(\"Top positive:\")\n",
    "print_state_features(Counter(crf.state_features_).most_common()[-10:])"
   ]
  }
 ],
 "metadata": {
  "kernelspec": {
   "display_name": "Python 3 (ipykernel)",
   "language": "python",
   "name": "python3"
  },
  "language_info": {
   "codemirror_mode": {
    "name": "ipython",
    "version": 3
   },
   "file_extension": ".py",
   "mimetype": "text/x-python",
   "name": "python",
   "nbconvert_exporter": "python",
   "pygments_lexer": "ipython3",
   "version": "3.10.2"
  }
 },
 "nbformat": 4,
 "nbformat_minor": 5
}
